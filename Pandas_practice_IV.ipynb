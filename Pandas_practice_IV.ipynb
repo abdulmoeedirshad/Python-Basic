{
 "cells": [
  {
   "cell_type": "markdown",
   "metadata": {
    "id": "eW7ITUdi3pGV"
   },
   "source": [
    "# Lecture 4 – Data 100, Fall 2023\n",
    "\n",
    "Data 100, Fall 2023\n",
    "\n",
    "[Acknowledgments Page](https://ds100.org/fa23/acks/)\n",
    "\n",
    "A demonstration of advanced `pandas` syntax to accompany Lecture 4."
   ]
  },
  {
   "cell_type": "code",
   "execution_count": 6,
   "metadata": {
    "id": "q6J8b52j3pGX"
   },
   "outputs": [],
   "source": [
    "import numpy as np\n",
    "import pandas as pd\n",
    "import plotly.express as px"
   ]
  },
  {
   "cell_type": "markdown",
   "metadata": {
    "id": "9wCjK1gk3pGY"
   },
   "source": [
    "## More on `Groupby`"
   ]
  },
  {
   "cell_type": "markdown",
   "metadata": {
    "id": "nAdtsT3X3pGY",
    "tags": []
   },
   "source": [
    "### Slido Exercise\n",
    "\n",
    "Try to predict the results of the `groupby` operation shown. The answer is below the image."
   ]
  },
  {
   "cell_type": "markdown",
   "metadata": {
    "id": "np8zjHNa3pGY"
   },
   "source": [
    "<img src=\"images/groupby.png\" alt=\"Image\" width=\"600\">"
   ]
  },
  {
   "cell_type": "markdown",
   "metadata": {
    "id": "y-Y4KW-c3pGZ"
   },
   "source": [
    "The top ?? will be \"hi\", the second ?? will be \"tx\", and the third ?? will be \"sd\"."
   ]
  },
  {
   "cell_type": "code",
   "execution_count": 7,
   "metadata": {
    "id": "czcOJXXr3pGZ",
    "outputId": "3ca257c0-ddb9-4180-9c5e-1e6a3e2ce007"
   },
   "outputs": [
    {
     "data": {
      "text/html": [
       "<div>\n",
       "<style scoped>\n",
       "    .dataframe tbody tr th:only-of-type {\n",
       "        vertical-align: middle;\n",
       "    }\n",
       "\n",
       "    .dataframe tbody tr th {\n",
       "        vertical-align: top;\n",
       "    }\n",
       "\n",
       "    .dataframe thead th {\n",
       "        text-align: right;\n",
       "    }\n",
       "</style>\n",
       "<table border=\"1\" class=\"dataframe\">\n",
       "  <thead>\n",
       "    <tr style=\"text-align: right;\">\n",
       "      <th></th>\n",
       "      <th>x</th>\n",
       "      <th>y</th>\n",
       "    </tr>\n",
       "  </thead>\n",
       "  <tbody>\n",
       "    <tr>\n",
       "      <th>A</th>\n",
       "      <td>3</td>\n",
       "      <td>ak</td>\n",
       "    </tr>\n",
       "    <tr>\n",
       "      <th>B</th>\n",
       "      <td>1</td>\n",
       "      <td>tx</td>\n",
       "    </tr>\n",
       "    <tr>\n",
       "      <th>C</th>\n",
       "      <td>4</td>\n",
       "      <td>fl</td>\n",
       "    </tr>\n",
       "    <tr>\n",
       "      <th>A</th>\n",
       "      <td>1</td>\n",
       "      <td>hi</td>\n",
       "    </tr>\n",
       "    <tr>\n",
       "      <th>B</th>\n",
       "      <td>5</td>\n",
       "      <td>mi</td>\n",
       "    </tr>\n",
       "    <tr>\n",
       "      <th>C</th>\n",
       "      <td>9</td>\n",
       "      <td>ak</td>\n",
       "    </tr>\n",
       "    <tr>\n",
       "      <th>A</th>\n",
       "      <td>2</td>\n",
       "      <td>ca</td>\n",
       "    </tr>\n",
       "    <tr>\n",
       "      <th>B</th>\n",
       "      <td>5</td>\n",
       "      <td>sd</td>\n",
       "    </tr>\n",
       "    <tr>\n",
       "      <th>C</th>\n",
       "      <td>6</td>\n",
       "      <td>nc</td>\n",
       "    </tr>\n",
       "  </tbody>\n",
       "</table>\n",
       "</div>"
      ],
      "text/plain": [
       "   x   y\n",
       "A  3  ak\n",
       "B  1  tx\n",
       "C  4  fl\n",
       "A  1  hi\n",
       "B  5  mi\n",
       "C  9  ak\n",
       "A  2  ca\n",
       "B  5  sd\n",
       "C  6  nc"
      ]
     },
     "execution_count": 7,
     "metadata": {},
     "output_type": "execute_result"
    }
   ],
   "source": [
    "# create dataframe given below\n",
    "df = pd.DataFrame({'x': [3, 1, 4, 1, 5, 9, 2, 5, 6],\n",
    "        'y': ['ak', 'tx', 'fl', 'hi', 'mi', 'ak', 'ca', 'sd', 'nc']},\n",
    "       index = ['A','B','C','A','B','C','A','B','C'])\n",
    "\n",
    "#df = pd.DataFrame(data)\n",
    "#index = ['A', 'B', 'C', 'A', 'B', 'C', 'A', 'C', 'B']\n",
    "#df = df.set_index('z')\n",
    "#df = pd.DataFrame(data, index=index)\n",
    "\n",
    "df"
   ]
  },
  {
   "cell_type": "code",
   "execution_count": 8,
   "metadata": {
    "id": "D_VN8F513pGZ",
    "outputId": "84ca0474-2ad5-4aae-c5fd-1b352a1f1f15"
   },
   "outputs": [
    {
     "data": {
      "text/html": [
       "<div>\n",
       "<style scoped>\n",
       "    .dataframe tbody tr th:only-of-type {\n",
       "        vertical-align: middle;\n",
       "    }\n",
       "\n",
       "    .dataframe tbody tr th {\n",
       "        vertical-align: top;\n",
       "    }\n",
       "\n",
       "    .dataframe thead th {\n",
       "        text-align: right;\n",
       "    }\n",
       "</style>\n",
       "<table border=\"1\" class=\"dataframe\">\n",
       "  <thead>\n",
       "    <tr style=\"text-align: right;\">\n",
       "      <th></th>\n",
       "      <th>x</th>\n",
       "      <th>y</th>\n",
       "    </tr>\n",
       "  </thead>\n",
       "  <tbody>\n",
       "    <tr>\n",
       "      <th>A</th>\n",
       "      <td>3</td>\n",
       "      <td>hi</td>\n",
       "    </tr>\n",
       "    <tr>\n",
       "      <th>B</th>\n",
       "      <td>5</td>\n",
       "      <td>tx</td>\n",
       "    </tr>\n",
       "    <tr>\n",
       "      <th>C</th>\n",
       "      <td>9</td>\n",
       "      <td>nc</td>\n",
       "    </tr>\n",
       "  </tbody>\n",
       "</table>\n",
       "</div>"
      ],
      "text/plain": [
       "   x   y\n",
       "A  3  hi\n",
       "B  5  tx\n",
       "C  9  nc"
      ]
     },
     "execution_count": 8,
     "metadata": {},
     "output_type": "execute_result"
    }
   ],
   "source": [
    "#Extract max value from each mini frame, like given below\n",
    "df.groupby(df.index).agg(max)"
   ]
  },
  {
   "cell_type": "markdown",
   "metadata": {
    "id": "pArjIKH13pGZ"
   },
   "source": [
    "### Loading `babynames` Dataset"
   ]
  },
  {
   "cell_type": "code",
   "execution_count": null,
   "metadata": {
    "id": "M2r88zRA3pGZ",
    "outputId": "ab88595a-11ca-4ebb-9113-82db5ce70c5f"
   },
   "outputs": [],
   "source": [
    "import urllib.request\n",
    "import os.path\n",
    "import zipfile\n",
    "\n",
    "data_url = \"https://www.ssa.gov/oact/babynames/state/namesbystate.zip\"\n",
    "local_filename = \"C:\\\\Users\\\\HC\\Desktop\\Knowledge Streams/babynamesbystate.zip\"\n",
    "if not os.path.exists(local_filename): # If the data exists don't download again\n",
    "    with urllib.request.urlopen(data_url) as resp, open(local_filename, 'wb') as f:\n",
    "        f.write(resp.read())\n",
    "\n",
    "zf = zipfile.ZipFile(local_filename, 'r')\n",
    "\n",
    "ca_name = 'STATE.CA.TXT'\n",
    "field_names = ['State', 'Sex', 'Year', 'Name', 'Count']\n",
    "with zf.open(ca_name) as fh:\n",
    "    babynames = pd.read_csv(fh, header=None, names=field_names)\n",
    "\n",
    "babynames.tail(10)"
   ]
  },
  {
   "cell_type": "markdown",
   "metadata": {
    "id": "VuTig1sX3pGa"
   },
   "source": [
    "### Case Study: Name \"Popularity\""
   ]
  },
  {
   "cell_type": "markdown",
   "metadata": {
    "id": "b8cpm-y63pGa"
   },
   "source": [
    "In this exercise, let's find the name with sex \"F\" that has dropped most in popularity since its peak usage in California. We'll start by filtering `babynames` to only include names corresponding to sex \"F\"."
   ]
  },
  {
   "cell_type": "code",
   "execution_count": null,
   "metadata": {
    "id": "yVs5ts6c3pGa",
    "outputId": "9549e317-6bce-4063-f22d-525fef2ed5e8"
   },
   "outputs": [],
   "source": [
    "f_babynames = babynames[babynames['Sex'] == 'F']"
   ]
  },
  {
   "cell_type": "code",
   "execution_count": null,
   "metadata": {
    "id": "garsGVp43pGa",
    "outputId": "f457368e-87f1-4122-8f47-e4b939f874e8"
   },
   "outputs": [],
   "source": [
    "# We sort the data by year\n",
    "f_babynames.sort_values('Year')"
   ]
  },
  {
   "cell_type": "markdown",
   "metadata": {
    "id": "5szL7VKP3pGa"
   },
   "source": [
    "To build our intuition on how to answer our research question, let's visualize the prevalence of the name \"Jennifer\" over time."
   ]
  },
  {
   "cell_type": "code",
   "execution_count": null,
   "metadata": {
    "id": "truSJjt93pGa",
    "outputId": "9395e952-e4ff-43af-ec7a-f72e42538628"
   },
   "outputs": [],
   "source": [
    "# We'll talk about how to generate plots in a later lecture\n",
    "px.line(f_babynames[f_babynames[\"Name\"] == \"Jennifer\"],\n",
    "x = \"Year\", y = \"Count\")"
   ]
  },
  {
   "cell_type": "markdown",
   "metadata": {
    "id": "Xq8jWu8E3pGa"
   },
   "source": [
    "We'll need a mathematical definition for the change in popularity of a name in California.\n",
    "\n",
    "Define the metric \"Ratio to Peak\" (RTP). We'll calculate this as the count of the name in 2022 (the most recent year for which we have data) divided by the largest count of this name in *any* year.\n",
    "\n",
    "A demo calculation for Jennifer:"
   ]
  },
  {
   "cell_type": "code",
   "execution_count": null,
   "metadata": {
    "id": "CL3girTV3pGb",
    "outputId": "4bf4e007-6438-4fc1-b18c-51b68429929c"
   },
   "outputs": [],
   "source": [
    "# In the year with the highest Jennifer count, 6065 Jennifers were born\n",
    "max_jen = f_babynames[f_babynames['Name'] == 'Jennifer']['Count'].max()\n",
    "max_jen"
   ]
  },
  {
   "cell_type": "code",
   "execution_count": null,
   "metadata": {
    "id": "3Py78l0z3pGb",
    "outputId": "63650fe2-f734-4b4c-bae7-f0d86408220e",
    "tags": []
   },
   "outputs": [],
   "source": [
    "# Remember that we sorted f_babynames by year.\n",
    "# This means that grabbing the final entry gives us the most recent count of Jennifers: 114\n",
    "# In 2022, the most recent year for which we have data, 114 Jennifers were born\n",
    "min_jen = f_babynames[f_babynames['Name'] == 'Jennifer']['Count'].iloc[-1]\n",
    "min_jen"
   ]
  },
  {
   "cell_type": "code",
   "execution_count": null,
   "metadata": {
    "id": "pmpPxA7j3pGb",
    "outputId": "201a64b4-1832-4f20-a6bc-f30c1beeaa68",
    "tags": []
   },
   "outputs": [],
   "source": [
    "# Compute the RTP\n",
    "rtp = min_jen/max_jen\n",
    "rtp"
   ]
  },
  {
   "cell_type": "markdown",
   "metadata": {
    "id": "CeFfFagO3pGb"
   },
   "source": [
    "We can also write a function that produces the `ratio_to_peak`for a given `Series`. This will allow us to use `.groupby` to speed up our computation for all names in the dataset."
   ]
  },
  {
   "cell_type": "code",
   "execution_count": null,
   "metadata": {
    "id": "n9ErHKlK3pGb"
   },
   "outputs": [],
   "source": [
    "def ratio_to_peak(series):\n",
    "    return series.iloc[-1]/max(series) "
   ]
  },
  {
   "cell_type": "code",
   "execution_count": null,
   "metadata": {
    "id": "Fdu3G8iZ3pGb",
    "outputId": "63e127d1-37f2-40b8-e74c-e58e604b34b8"
   },
   "outputs": [],
   "source": [
    "# Construct a Series containing our Jennifer count data\n",
    "jenn_counts_ser = f_babynames[f_babynames[\"Name\"] == \"Jennifer\"][\"Count\"]\n",
    "jenn_counts_ser\n",
    "# Then, find the RTP\n",
    "ratio_to_peak(jenn_counts_ser)"
   ]
  },
  {
   "cell_type": "markdown",
   "metadata": {
    "id": "ilabTWeP3pGb"
   },
   "source": [
    "Now, let's use `.groupby` to compute the RTPs for *all* names in the dataset.\n",
    "\n",
    "You may see a warning message when running the cell below. As discussed in the lecture, `pandas` can't apply an aggregation function to non-numeric data (it doens't make sense to divide \"CA\" by a number). We can select numerical columns of interest directly."
   ]
  },
  {
   "cell_type": "code",
   "execution_count": null,
   "metadata": {
    "id": "kcB0gn5o3pGc",
    "outputId": "7a2dc05f-3279-416a-ee35-cf10d65756de",
    "tags": []
   },
   "outputs": [],
   "source": [
    "rtp_table = f_babynames.groupby('Name')[['Count']].agg(ratio_to_peak)\n",
    "rtp_table"
   ]
  },
  {
   "cell_type": "code",
   "execution_count": null,
   "metadata": {
    "id": "Gmmssgkn3pGc"
   },
   "outputs": [],
   "source": [
    "# Results in a TypeError\n",
    "rtp_table = f_babynames.groupby(\"Name\").agg(ratio_to_peak)\n",
    "rtp_table"
   ]
  },
  {
   "cell_type": "markdown",
   "metadata": {
    "id": "LHsr9j1A3pGc"
   },
   "source": [
    "This is the `pandas` equivalent of `.group` from [Data 8](http://data8.org/datascience/_autosummary/datascience.tables.Table.group.html). If we wanted to achieve this same result using the `datascience` library, we would write:\n",
    "\n",
    "`f_babynames.group(\"Name\", ratio_to_peak)`"
   ]
  },
  {
   "cell_type": "markdown",
   "metadata": {
    "id": "6nqcNGI-3pGc"
   },
   "source": [
    "### Slido Exercise\n",
    "\n",
    "Is there a row where `Year` is not equal to 1?"
   ]
  },
  {
   "cell_type": "code",
   "execution_count": null,
   "metadata": {
    "id": "KaEOh_S33pGc",
    "outputId": "1ee38152-5de4-4903-9b8d-3bb46e19f0b0"
   },
   "outputs": [],
   "source": [
    "# Unique values in the Year column\n",
    "rtp_table1 = f_babynames.groupby('Name')[['Count','Year']].agg(ratio_to_peak)\n",
    "print(rtp_table1['Year'].unique(), \"\\n\\n\\n\", rtp_table1.head(5))\n",
    "\n",
    "#There is no Year that is not equal to 1.0"
   ]
  },
  {
   "cell_type": "code",
   "execution_count": null,
   "metadata": {
    "id": "l_Ukq2pY3pGc",
    "outputId": "b192f92f-9213-470a-9bc2-6da398e49fc3"
   },
   "outputs": [],
   "source": [
    "# Dropping the Year column\n",
    "rtp_table1 = rtp_table1.drop('Year', axis = 'columns')"
   ]
  },
  {
   "cell_type": "code",
   "execution_count": null,
   "metadata": {
    "id": "LWTkPP4a3pGc",
    "outputId": "b8f41a83-094b-4f6c-da4b-e824f07b7477"
   },
   "outputs": [],
   "source": [
    "# Rename \"Count\" to \"Count RTP\" for clarity\n",
    "rtp_table1 = rtp_table1.rename(columns = {'Count' : 'Count_RTP'})"
   ]
  },
  {
   "cell_type": "code",
   "execution_count": null,
   "metadata": {
    "id": "pboKgmFQ3pGc",
    "outputId": "72625993-065e-4701-e657-b84b8d20f7d0"
   },
   "outputs": [],
   "source": [
    "# What name has fallen the most in popularity?\n",
    "rtp_table1 = rtp_table1.sort_values('Count_RTP')"
   ]
  },
  {
   "cell_type": "markdown",
   "metadata": {
    "id": "YKG0fKSn3pGd"
   },
   "source": [
    "We can visualize the decrease in the popularity of the name \"Debra:\""
   ]
  },
  {
   "cell_type": "code",
   "execution_count": null,
   "metadata": {
    "id": "d-RwNFej3pGd",
    "outputId": "9530f28b-b7c6-44d6-e0b4-cf44dbf2238f"
   },
   "outputs": [],
   "source": [
    "def plot_name(*names):\n",
    "    fig = px.line(f_babynames[f_babynames[\"Name\"].isin(names)],\n",
    "                  x = \"Year\", y = \"Count\", color=\"Name\",\n",
    "                  title=f\"Popularity for: {names}\")\n",
    "    fig.update_layout(font_size = 18,\n",
    "                  autosize=False,\n",
    "                  width=1000,\n",
    "                  height=400)\n",
    "    return fig\n",
    "\n",
    "plot_name(\"Debra\")"
   ]
  },
  {
   "cell_type": "code",
   "execution_count": null,
   "metadata": {
    "id": "65bUXswk3pGd",
    "outputId": "baf75f65-fe01-4f31-ab85-8564fdc03040"
   },
   "outputs": [],
   "source": [
    "# Find the 10 names that have decreased the most in popularity\n",
    "\n",
    "top10 = rtp_table1.head(10).index\n",
    "top10"
   ]
  },
  {
   "cell_type": "code",
   "execution_count": null,
   "metadata": {
    "id": "C23KUV3J3pGd",
    "outputId": "d64a0ad2-ed48-40b3-a160-663e3a9a01e5"
   },
   "outputs": [],
   "source": [
    "plot_name(*top10)"
   ]
  },
  {
   "cell_type": "markdown",
   "metadata": {
    "id": "VFt76B513pGd"
   },
   "source": [
    "For fun, try plotting your name or your friends' names."
   ]
  },
  {
   "cell_type": "markdown",
   "metadata": {
    "id": "KqPzW4kW3pGd"
   },
   "source": [
    "### Slido Exercise\n",
    "\n",
    "Given the example below on `babynames` dataset, write code to compute the total number of babies with each name in California."
   ]
  },
  {
   "cell_type": "code",
   "execution_count": null,
   "metadata": {
    "id": "HmBCcqV33pGd",
    "outputId": "1e0b2782-f434-40bf-dc8d-6a5028095ee7"
   },
   "outputs": [],
   "source": [
    "babynames.groupby('Name')[['Count']].agg(sum)"
   ]
  },
  {
   "cell_type": "markdown",
   "metadata": {
    "id": "o01bIkLD3pGe"
   },
   "source": [
    "### Slido Exercise\n",
    "\n",
    "Write code to compute the total number of babies born each year in California."
   ]
  },
  {
   "cell_type": "code",
   "execution_count": null,
   "metadata": {
    "id": "hg0OH2Xg3pGe",
    "outputId": "6ed356c8-e1ae-4def-83b4-1a67dc1fe1d9"
   },
   "outputs": [],
   "source": [
    "bbpy = babynames.groupby('Year')[['Count']].agg(sum)\n",
    "bbpy"
   ]
  },
  {
   "cell_type": "code",
   "execution_count": null,
   "metadata": {
    "id": "9MaS2TRK3pGe",
    "outputId": "61866a0e-5600-4e0f-e4c9-375d375d392d"
   },
   "outputs": [],
   "source": [
    "# Plotting baby counts per yea\n",
    "px.line(bbpy, x = bbpy.index , y = \"Count\")"
   ]
  },
  {
   "cell_type": "markdown",
   "metadata": {
    "id": "OV0i1cin3pGe",
    "tags": []
   },
   "source": [
    "### `groupby.size` and `groupby.count()`"
   ]
  },
  {
   "cell_type": "code",
   "execution_count": null,
   "metadata": {
    "id": "rGDSTMvK3pGe",
    "outputId": "b9f33203-97b4-485d-cd32-badda67fb7d8"
   },
   "outputs": [],
   "source": [
    "df = pd.DataFrame({'letter':['A', 'A', 'B', 'C', 'C', 'C'],\n",
    "                   'num':[1, 2, 3, 4, np.NaN, 4],\n",
    "                   'state':[np.NaN, 'tx', 'fl', 'hi', np.NaN, 'ak']})\n",
    "df"
   ]
  },
  {
   "cell_type": "markdown",
   "metadata": {
    "id": "jvw3ewan3pGe"
   },
   "source": [
    "`groupby.size()` returns a `Series`, indexed by the `letter`s that we grouped by, with values denoting the number of rows in each group/sub-DataFrame. It does not care about missing (`NaN`) values."
   ]
  },
  {
   "cell_type": "code",
   "execution_count": null,
   "metadata": {
    "id": "TdT_KzCV3pGe",
    "outputId": "63768f9e-f9bf-40cb-fc87-3e4b1c853f61"
   },
   "outputs": [],
   "source": [
    "size = df.groupby('letter').size()\n",
    "size"
   ]
  },
  {
   "cell_type": "markdown",
   "metadata": {
    "id": "FNHxI6TZ3pGe"
   },
   "source": [
    "`groupby.count()` returns a `DataFrame`, indexed by the `letter`s that we grouped by. Each column represents the number of non-missing values for that `letter`."
   ]
  },
  {
   "cell_type": "code",
   "execution_count": null,
   "metadata": {
    "id": "2feB4_vK3pGf",
    "outputId": "58234615-9f79-4803-8198-d50a54d41431"
   },
   "outputs": [],
   "source": [
    "count = df.groupby('letter').count()\n",
    "count"
   ]
  },
  {
   "cell_type": "markdown",
   "metadata": {
    "id": "LA1KGTJA3pGf"
   },
   "source": [
    "You might recall `value_counts()` function we talked about last week. What's the difference?"
   ]
  },
  {
   "cell_type": "code",
   "execution_count": null,
   "metadata": {
    "id": "aJivL0FW3pGf",
    "outputId": "bf053325-1295-4f43-e66f-dea11a34c6a9"
   },
   "outputs": [],
   "source": [
    "# groupby.count() provides a count of non-null values for each column in the grouped data while the value_counts() provides\n",
    "# counts of unique values in a Series, ordered from the most frequent to the least frequent.\n",
    "\n",
    "df['letter'].value_counts()"
   ]
  },
  {
   "cell_type": "markdown",
   "metadata": {
    "id": "xq5MTgZK3pGf"
   },
   "source": [
    "Turns out `value_counts()` does something similar to `groupby.size()`, except that it also sorts the resulting `Series` in descending order."
   ]
  },
  {
   "cell_type": "markdown",
   "metadata": {
    "id": "TP4ADJ_U3pGf"
   },
   "source": [
    "## Filtering by Group"
   ]
  },
  {
   "cell_type": "code",
   "execution_count": null,
   "metadata": {
    "id": "5MA30Cnx3pGf",
    "outputId": "197ed6a4-cf64-41c1-87ea-9aa5192a50cb"
   },
   "outputs": [],
   "source": [
    "# Let's read the elections dataset\n",
    "elections = pd.read_csv('elections (2).csv')\n",
    "elections"
   ]
  },
  {
   "cell_type": "markdown",
   "metadata": {
    "id": "zpKMOQtF3pGf"
   },
   "source": [
    "Let's keep only the elections years where the maximum vote share `%` is less than 45%."
   ]
  },
  {
   "cell_type": "code",
   "execution_count": null,
   "metadata": {
    "id": "D0ZHJz0T3pGf",
    "outputId": "129157a9-c8db-4af8-9b12-13570130838a"
   },
   "outputs": [],
   "source": [
    "#elections = elections[elections['%'] < 45]\n",
    "#elections\n",
    "\n",
    "elections.groupby(\"Year\").filter(lambda sf: sf[\"%\"].max() < 45)\n",
    "\n",
    "\n",
    "# why cant we use boolean condition to simply filter the data?"
   ]
  },
  {
   "cell_type": "markdown",
   "metadata": {
    "id": "5nio_n1V3pGg",
    "tags": []
   },
   "source": [
    "### `groupby` Puzzle\n",
    "\n",
    "Assume that we want to know the best election by each party."
   ]
  },
  {
   "cell_type": "markdown",
   "metadata": {
    "id": "19hDTQjo3pGg"
   },
   "source": [
    "#### Attempt #1"
   ]
  },
  {
   "cell_type": "markdown",
   "metadata": {
    "id": "GgQ4GhpU3pGg"
   },
   "source": [
    "We have to be careful when using aggregation functions. For example, the code below might be misinterpreted to say that Woodrow Wilson successfully ran for election in 2020. Why is this happening?"
   ]
  },
  {
   "cell_type": "code",
   "execution_count": null,
   "metadata": {
    "id": "-hNWFIwz3pGg",
    "outputId": "508e8c6d-eb32-4418-daa9-72c022384397"
   },
   "outputs": [],
   "source": [
    "elections.groupby('Party').max().head(10)"
   ]
  },
  {
   "cell_type": "markdown",
   "metadata": {
    "id": "YdDqcRjv3pGg"
   },
   "source": [
    "#### Attempt #2"
   ]
  },
  {
   "cell_type": "markdown",
   "metadata": {
    "id": "RSGUEjNf3pGg"
   },
   "source": [
    "Next, we'll write code that properly returns _the best result by each party_. That is, each row should show the Year, Candidate, Popular Vote, Result, and % for the election in which that party saw its best results (rather than mixing them as in the example above). Here's what the first rows of the correct output should look like:\n",
    "\n",
    "![parties.png](attachment:ab21f8de-ad29-46c2-bea7-e9aea9c40e3e.png)"
   ]
  },
  {
   "cell_type": "code",
   "execution_count": null,
   "metadata": {
    "id": "TOKr--Z53pGg",
    "outputId": "131ce431-4ed9-4fa1-9b80-bf8bfa147976"
   },
   "outputs": [],
   "source": [
    "sorted_elections = elections.sort_values(\"%\", ascending=False)\n",
    "sorted_elections"
   ]
  },
  {
   "cell_type": "code",
   "execution_count": null,
   "metadata": {
    "id": "KRMlKtl53pGg",
    "outputId": "cb711fc8-8bcd-4abb-e52b-34be6b1cbdf8"
   },
   "outputs": [],
   "source": [
    "sorted_elections.groupby(\"Party\").first()"
   ]
  },
  {
   "cell_type": "markdown",
   "metadata": {
    "id": "pBYzxqCf3pGh"
   },
   "source": [
    "#### Alternative Solutions"
   ]
  },
  {
   "cell_type": "markdown",
   "metadata": {
    "id": "VQWd91W-3pGh"
   },
   "source": [
    "You'll soon discover that with Pandas rich tool set, there's typically more than one way to get to the same answer. Each approach has different tradeoffs in terms of readability, performance, memory consumption, complexity, and more. It will take some experience for you to develop a sense of which approach is better for each problem, but you should, in general, try to think if you can at least envision a different solution to a given problem, especially if you find your current solution to be particularly convoluted or hard to read.\n",
    "\n",
    "Here are a couple of other ways of obtaining the same result (in each case, we only show the top part with `head()`). The first approach uses `groupby` but finds the location of the maximum value via the `idxmax()` method (look up its documentation!).  We then index and sort by `Party` to match the requested formatting:"
   ]
  },
  {
   "cell_type": "code",
   "execution_count": null,
   "metadata": {
    "id": "OrOOI7wx3pGh",
    "outputId": "329f2226-0c58-4f35-f410-563e93a87229"
   },
   "outputs": [],
   "source": [
    "elections_sorted_by_percent = elections.sort_values(\"%\", ascending=False)\n",
    "elections_sorted_by_percent.groupby(\"Party\").agg(lambda x : x.iloc[0])"
   ]
  },
  {
   "cell_type": "code",
   "execution_count": null,
   "metadata": {
    "id": "RTU8bplo3pGh",
    "outputId": "5fe2c860-5410-4f83-bf8b-84dcc24e717e"
   },
   "outputs": [],
   "source": [
    "# This is the computational part\n",
    "# This indexes by Party to match the formatting above\n",
    "best_per_party = elections.loc[elections.groupby(\"Party\")[\"%\"].idxmax()]\n",
    "best_per_party"
   ]
  },
  {
   "cell_type": "markdown",
   "metadata": {
    "id": "mb3L2-Zd3pGh"
   },
   "source": [
    "And this one doesn't even use `groupby`! This approach instead uses the `drop_duplicates` method to keep only the last occurrence of of each party after having sorted by \"%\", which is the best performance.  Again, the 2nd line is purely formatting:"
   ]
  },
  {
   "cell_type": "code",
   "execution_count": null,
   "metadata": {
    "id": "AgIgRTP43pGh",
    "outputId": "49025b8e-7275-40fd-e63a-52a2b3ef8e6f"
   },
   "outputs": [],
   "source": [
    "# why is the output different here?\n",
    "best_per_party2 = elections.sort_values(\"%\").drop_duplicates([\"Party\"], keep=\"last\")\n",
    "best_per_party2"
   ]
  },
  {
   "cell_type": "markdown",
   "metadata": {
    "id": "TlFpKrCg3pGh"
   },
   "source": [
    "*Challenge:* See if you can find yet another approach that still gives the same answer."
   ]
  },
  {
   "cell_type": "markdown",
   "metadata": {
    "id": "iBvISOfD3pGi"
   },
   "source": [
    "### `DataFrameGroupBy` Objects"
   ]
  },
  {
   "cell_type": "markdown",
   "metadata": {
    "id": "MjrROcQS3pGi"
   },
   "source": [
    "The result of `groupby` is not a `DataFrame` or a list of `DataFrame`s. It is instead a special type called a `DataFrameGroupBy`."
   ]
  },
  {
   "cell_type": "code",
   "execution_count": null,
   "metadata": {
    "id": "1mWErtr63pGi",
    "outputId": "9f5f4b56-6fac-4616-c351-7c8f432d87e5"
   },
   "outputs": [],
   "source": [
    "grouped_by_party = elections.groupby('Party')"
   ]
  },
  {
   "cell_type": "markdown",
   "metadata": {
    "id": "w0cPkXQv3pGi"
   },
   "source": [
    "`GroupBy` objects are structured like dictionaries. In fact, we can actually see the dictionaries with the following code:"
   ]
  },
  {
   "cell_type": "code",
   "execution_count": null,
   "metadata": {
    "id": "_ckcD7UD3pGi",
    "outputId": "1cc6164f-2ac5-49aa-9d3c-3cf86e09483c"
   },
   "outputs": [],
   "source": [
    "grouped_by_party.groups"
   ]
  },
  {
   "cell_type": "markdown",
   "metadata": {
    "id": "Jndd_7-73pGi"
   },
   "source": [
    "The `key`s of the dictionary are the groups (in this case, `Party`), and the `value`s are the **indices** of rows belonging to that group. We can access a particular sub-`DataFrame` using `get_group`:"
   ]
  },
  {
   "cell_type": "code",
   "execution_count": null,
   "metadata": {
    "id": "B76gV7Bz3pGi",
    "outputId": "61eca397-8df9-4300-85a3-fffd35a9ec88"
   },
   "outputs": [],
   "source": [
    "grouped_by_party.get_group(\"Republican\")"
   ]
  },
  {
   "cell_type": "markdown",
   "metadata": {
    "id": "IUH5jTtv3pGj"
   },
   "source": [
    "---"
   ]
  },
  {
   "cell_type": "markdown",
   "metadata": {
    "id": "VHbJfOjv3pGj"
   },
   "source": [
    "## Pivot Tables"
   ]
  },
  {
   "cell_type": "markdown",
   "metadata": {
    "id": "YkCEWnHj3pGj"
   },
   "source": [
    "### `Groupby` with multiple columns"
   ]
  },
  {
   "cell_type": "markdown",
   "metadata": {
    "id": "YQbHGHIa3pGj"
   },
   "source": [
    "We want to build a table showing the total number of babies born of each sex in each year. One way is to `groupby` using both columns of interest:"
   ]
  },
  {
   "cell_type": "code",
   "execution_count": null,
   "metadata": {
    "id": "Cb2FyDMx3pGj",
    "outputId": "51a74b22-f6a1-4d0d-aedc-3bd97acb5327"
   },
   "outputs": [],
   "source": [
    "babynames.groupby(['Year','Sex'])[['Count']].agg(sum)"
   ]
  },
  {
   "cell_type": "markdown",
   "metadata": {
    "id": "Os7fx3Uf3pGj"
   },
   "source": [
    "### `pivot_table`"
   ]
  },
  {
   "cell_type": "code",
   "execution_count": null,
   "metadata": {
    "id": "ujEnfiBi3pGk",
    "outputId": "11c11bb9-1b1f-401c-e3ea-9f60da98975e"
   },
   "outputs": [],
   "source": [
    "babynames_pivot = babynames.pivot_table(\n",
    "index = \"Year\", \n",
    "columns = \"Sex\", \n",
    "values = [\"Count\"],\n",
    "aggfunc = np.sum, \n",
    ")\n",
    "babynames_pivot.head(6)"
   ]
  },
  {
   "cell_type": "markdown",
   "metadata": {
    "id": "0jrnyPtL3pGk"
   },
   "source": [
    "![pivot_picture.png](attachment:pivot_picture.png)"
   ]
  },
  {
   "cell_type": "markdown",
   "metadata": {
    "id": "GpKQql0i3pGk"
   },
   "source": [
    "### `pivot_table` with Multiple values"
   ]
  },
  {
   "cell_type": "code",
   "execution_count": null,
   "metadata": {
    "id": "PpIV83b03pGk",
    "outputId": "1d083ee7-03e0-4b36-c10b-a442e7e2e037"
   },
   "outputs": [],
   "source": [
    "babynames_pivot = babynames.pivot_table(\n",
    "index = \"Year\", # rows (turned into index)\n",
    "columns = \"Sex\", # column values\n",
    "values = [\"Count\",\"Name\"], # field(s) to process in each group\n",
    "aggfunc = np.max, # group operation\n",
    ")\n",
    "babynames_pivot.head(6)"
   ]
  },
  {
   "cell_type": "markdown",
   "metadata": {
    "id": "B1SGnLX-3pGk"
   },
   "source": [
    "---"
   ]
  },
  {
   "cell_type": "markdown",
   "metadata": {
    "id": "ETZY8omD3pGk"
   },
   "source": [
    "## Join Tables\n",
    "\n",
    "What if we want to know the popularity of presidential candidates' first names in California in 2022? What can we do?"
   ]
  },
  {
   "cell_type": "code",
   "execution_count": null,
   "metadata": {
    "id": "0brZE3-k3pGk",
    "outputId": "8337848d-e2fb-452b-9540-44c5af58db2b"
   },
   "outputs": [],
   "source": [
    "bb2022 = babynames[babynames['Year'] == 2022]\n",
    "bb2022"
   ]
  },
  {
   "cell_type": "code",
   "execution_count": null,
   "metadata": {
    "id": "1mW5T3iV3pGl",
    "outputId": "96c8526f-bbd6-41ec-8ca4-b22e5dd86f14"
   },
   "outputs": [],
   "source": [
    "elections[\"First Name\"] = elections[\"Candidate\"].str.split().str[0]\n",
    "elections"
   ]
  },
  {
   "cell_type": "markdown",
   "metadata": {
    "id": "UNIUusm43pGl"
   },
   "source": [
    "Unlike in Data 8, the join function is called `merge` in pandas. `join` in pandas does something slightly different—we won't talk about it in this class."
   ]
  },
  {
   "cell_type": "code",
   "execution_count": null,
   "metadata": {
    "id": "1XskoTlv3pGl",
    "outputId": "61f91ab7-d7c5-4ea4-f59f-523ad3f6bde2"
   },
   "outputs": [],
   "source": [
    "merged = pd.merge(left = elections, right = bb2022,\n",
    "left_on = \"First Name\", right_on = \"Name\")\n",
    "merged"
   ]
  },
  {
   "cell_type": "code",
   "execution_count": null,
   "metadata": {},
   "outputs": [],
   "source": []
  }
 ],
 "metadata": {
  "colab": {
   "provenance": []
  },
  "kernelspec": {
   "display_name": "Python 3 (ipykernel)",
   "language": "python",
   "name": "python3"
  },
  "language_info": {
   "codemirror_mode": {
    "name": "ipython",
    "version": 3
   },
   "file_extension": ".py",
   "mimetype": "text/x-python",
   "name": "python",
   "nbconvert_exporter": "python",
   "pygments_lexer": "ipython3",
   "version": "3.11.8"
  }
 },
 "nbformat": 4,
 "nbformat_minor": 4
}
