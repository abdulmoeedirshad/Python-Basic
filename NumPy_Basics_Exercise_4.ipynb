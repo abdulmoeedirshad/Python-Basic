{
 "cells": [
  {
   "cell_type": "markdown",
   "id": "bac7cbe2",
   "metadata": {},
   "source": [
    "# Problem 1: Reshaping for Image Processing\n",
    "You are working on an image processing project, and you have a grayscale image represented as a 1D NumPy array **img_data** of size **(m * n)**, where m and n are the dimensions of the image. Write a function **reshape_image(img_data, new_shape)** that takes the original image data and a tuple representing the new shape **(p, q)** of the image. Ensure that the total number of pixels remains unchanged. If it's not possible to reshape without changing the total number of pixels, return **None**."
   ]
  },
  {
   "cell_type": "code",
   "execution_count": null,
   "id": "89bf2b86",
   "metadata": {},
   "outputs": [],
   "source": [
    "# Write your function in this cell"
   ]
  },
  {
   "cell_type": "code",
   "execution_count": 2,
   "id": "9a7a3b17",
   "metadata": {
    "scrolled": true
   },
   "outputs": [
    {
     "name": "stdout",
     "output_type": "stream",
     "text": [
      "[0 1 2 3 4 5 6 7 8]\n",
      "[[0 1 2]\n",
      " [3 4 5]\n",
      " [6 7 8]]\n"
     ]
    }
   ],
   "source": [
    "import numpy as np\n",
    "#ef\n",
    "img_data = np.arange(9)  # Assuming a 3x3 image\n",
    "print(img_data)\n",
    "reshape_image=img_data.reshape(3,3)\n",
    "   # new_shape = (3, 3)\n",
    "\n",
    "\n",
    "result = reshape_image\n",
    "print(result)"
   ]
  },
  {
   "cell_type": "code",
   "execution_count": 56,
   "id": "c2e003cd",
   "metadata": {},
   "outputs": [],
   "source": [
    "#def reshape_value(a, b):\n",
    "    #original_img = np.prod(a.shape)\n",
    "    #new_img = np.prod(b)\n",
    "    #if original_img != new_img:\n",
    "     #   return None\n",
    "    #reshaped_img = np.reshape(a,b)\n",
    "    #return reshaped_img"
   ]
  },
  {
   "cell_type": "code",
   "execution_count": 3,
   "id": "cfa7a78b",
   "metadata": {
    "scrolled": true
   },
   "outputs": [
    {
     "name": "stdout",
     "output_type": "stream",
     "text": [
      "[[0 1 2]\n",
      " [3 4 5]\n",
      " [6 7 8]]\n",
      "9\n"
     ]
    }
   ],
   "source": [
    "def reshape_image(img_data, new_shape):\n",
    "    if np.prod(new_shape)!= img_data.size:\n",
    "        return None\n",
    "    else:\n",
    "        return img_data.reshape(new_shape)\n",
    "\n",
    "# Example usage\n",
    "img_data = np.arange(9)  # Assuming a 3x3 image\n",
    "new_shape = (3, 3)\n",
    "\n",
    "result = reshape_image(img_data, new_shape)\n",
    "print(result)\n",
    "print(img_data.size)"
   ]
  },
  {
   "cell_type": "markdown",
   "id": "f26eada3",
   "metadata": {},
   "source": [
    "# Problem 2: Matrix Transpose\n",
    "You are dealing with a dataset stored as a NumPy array **data_matrix** with dimensions **(m, n)**. Implement a function **transpose_matrix(data_matrix)** that returns the transpose of the given matrix."
   ]
  },
  {
   "cell_type": "code",
   "execution_count": 4,
   "id": "96da3b85",
   "metadata": {},
   "outputs": [],
   "source": [
    "# Write your function in this cell\n",
    "def  transpose_matrix(data_matrix):\n",
    "    return np.transpose(data_matrix)"
   ]
  },
  {
   "cell_type": "code",
   "execution_count": 72,
   "id": "ae176a7e",
   "metadata": {},
   "outputs": [
    {
     "name": "stdout",
     "output_type": "stream",
     "text": [
      "[[ 1  4]\n",
      " [ 2  5]\n",
      " [ 4  6]\n",
      " [ 5  7]\n",
      " [ 6  8]\n",
      " [ 7  9]\n",
      " [ 8 10]]\n"
     ]
    }
   ],
   "source": [
    "import numpy as np\n",
    "\n",
    "data_matrix = np.array([[1, 2,4 ,5, 6,7 ,8], [4, 5, 6,7,8,9,10]])\n",
    "transposed_matrix = transpose_matrix(data_matrix)\n",
    "\n",
    "print(transposed_matrix)"
   ]
  },
  {
   "cell_type": "markdown",
   "id": "60caff17",
   "metadata": {},
   "source": [
    "# Problem 3: Flattening for Data Processing\n",
    "You have a 2D array representing data from different sensors. Write a function **flatten_sensor_data(sensor_data)** that takes a 2D NumPy array representing the sensor readings and returns a flattened 1D array."
   ]
  },
  {
   "cell_type": "code",
   "execution_count": 7,
   "id": "2070bb01",
   "metadata": {},
   "outputs": [],
   "source": [
    "# Write your function in this cell \n",
    "def flatten_sensor_data(sensor_data):\n",
    "    flattened_data = sensor_data.flatten()\n",
    "    return flattened_data"
   ]
  },
  {
   "cell_type": "code",
   "execution_count": 14,
   "id": "ddb929ee",
   "metadata": {},
   "outputs": [
    {
     "name": "stdout",
     "output_type": "stream",
     "text": [
      "[[10 20 30]\n",
      " [40 50 60]]\n",
      "[10 20 30 40 50 60]\n"
     ]
    }
   ],
   "source": [
    "import numpy as np\n",
    "\n",
    "sensor_data = np.array([[10, 20, 30], [40, 50, 60]])\n",
    "flattened_data = flatten_sensor_data(sensor_data)\n",
    "print(sensor_data)\n",
    "print(flattened_data)"
   ]
  },
  {
   "cell_type": "code",
   "execution_count": null,
   "id": "6ba99527",
   "metadata": {},
   "outputs": [],
   "source": []
  }
 ],
 "metadata": {
  "kernelspec": {
   "display_name": "Python 3 (ipykernel)",
   "language": "python",
   "name": "python3"
  },
  "language_info": {
   "codemirror_mode": {
    "name": "ipython",
    "version": 3
   },
   "file_extension": ".py",
   "mimetype": "text/x-python",
   "name": "python",
   "nbconvert_exporter": "python",
   "pygments_lexer": "ipython3",
   "version": "3.11.5"
  }
 },
 "nbformat": 4,
 "nbformat_minor": 5
}
