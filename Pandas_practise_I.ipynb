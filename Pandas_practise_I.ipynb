{
 "cells": [
  {
   "cell_type": "code",
   "execution_count": 1,
   "metadata": {
    "id": "6PIse7FRFVO2"
   },
   "outputs": [],
   "source": [
    "%matplotlib inline\n",
    "import matplotlib.pyplot as plt\n",
    "import seaborn as sns\n",
    "import numpy as np\n",
    "import pandas as pd\n",
    "from IPython.display import display\n",
    "from IPython.display import Image\n",
    "sns.set_context(\"notebook\")"
   ]
  },
  {
   "cell_type": "code",
   "execution_count": 2,
   "metadata": {
    "colab": {
     "base_uri": "https://localhost:8080/"
    },
    "id": "61hY5_a-K1bi",
    "outputId": "c92c9405-4629-40a8-ea8c-46e50df92906"
   },
   "outputs": [
    {
     "ename": "ModuleNotFoundError",
     "evalue": "No module named 'google'",
     "output_type": "error",
     "traceback": [
      "\u001b[1;31m---------------------------------------------------------------------------\u001b[0m",
      "\u001b[1;31mModuleNotFoundError\u001b[0m                       Traceback (most recent call last)",
      "Cell \u001b[1;32mIn[2], line 1\u001b[0m\n\u001b[1;32m----> 1\u001b[0m \u001b[38;5;28;01mfrom\u001b[39;00m \u001b[38;5;21;01mgoogle\u001b[39;00m\u001b[38;5;21;01m.\u001b[39;00m\u001b[38;5;21;01mcolab\u001b[39;00m \u001b[38;5;28;01mimport\u001b[39;00m drive\n\u001b[0;32m      2\u001b[0m drive\u001b[38;5;241m.\u001b[39mmount(\u001b[38;5;124m'\u001b[39m\u001b[38;5;124m/content/drive\u001b[39m\u001b[38;5;124m'\u001b[39m)\n",
      "\u001b[1;31mModuleNotFoundError\u001b[0m: No module named 'google'"
     ]
    }
   ],
   "source": [
    "from google.colab import drive\n",
    "drive.mount('/content/drive')"
   ]
  },
  {
   "cell_type": "markdown",
   "metadata": {
    "id": "Do3KBRcu3Ee2"
   },
   "source": [
    "# Extracting Data and Filtering\n",
    ":The `[]` operator supports array of booleans as an input. In this case, the array must be exactly as long as the number of rows.\n",
    "\n",
    "The result is a **filtered version of the data frame**, where **only rows corresponding to True appear**.\n",
    "\n",
    "# Q1.\n",
    "Select multiple criteria by creating multiple boolean Series and combining them using the `&` operator. For Examole Result is win and %win is more than 50."
   ]
  },
  {
   "cell_type": "code",
   "execution_count": 113,
   "metadata": {
    "id": "n6ahrlX728Fb"
   },
   "outputs": [
    {
     "ename": "FileNotFoundError",
     "evalue": "[Errno 2] No such file or directory: 'C:\\\\Users\\\\MOEED\\\\Desktop\\\\Knowledge Streams\\\\elections.csv'",
     "output_type": "error",
     "traceback": [
      "\u001b[1;31m---------------------------------------------------------------------------\u001b[0m",
      "\u001b[1;31mFileNotFoundError\u001b[0m                         Traceback (most recent call last)",
      "Cell \u001b[1;32mIn[113], line 1\u001b[0m\n\u001b[1;32m----> 1\u001b[0m elections \u001b[38;5;241m=\u001b[39m pd\u001b[38;5;241m.\u001b[39mread_csv(\u001b[38;5;124m\"\u001b[39m\u001b[38;5;124mC:\u001b[39m\u001b[38;5;130;01m\\\\\u001b[39;00m\u001b[38;5;124mUsers\u001b[39m\u001b[38;5;130;01m\\\\\u001b[39;00m\u001b[38;5;124mMOEED\u001b[39m\u001b[38;5;124m\\\u001b[39m\u001b[38;5;124mDesktop\u001b[39m\u001b[38;5;124m\\\u001b[39m\u001b[38;5;124mKnowledge Streams\u001b[39m\u001b[38;5;124m\\\u001b[39m\u001b[38;5;124melections.csv\u001b[39m\u001b[38;5;124m\"\u001b[39m)\n",
      "File \u001b[1;32m~\\anaconda3\\Lib\\site-packages\\pandas\\io\\parsers\\readers.py:912\u001b[0m, in \u001b[0;36mread_csv\u001b[1;34m(filepath_or_buffer, sep, delimiter, header, names, index_col, usecols, dtype, engine, converters, true_values, false_values, skipinitialspace, skiprows, skipfooter, nrows, na_values, keep_default_na, na_filter, verbose, skip_blank_lines, parse_dates, infer_datetime_format, keep_date_col, date_parser, date_format, dayfirst, cache_dates, iterator, chunksize, compression, thousands, decimal, lineterminator, quotechar, quoting, doublequote, escapechar, comment, encoding, encoding_errors, dialect, on_bad_lines, delim_whitespace, low_memory, memory_map, float_precision, storage_options, dtype_backend)\u001b[0m\n\u001b[0;32m    899\u001b[0m kwds_defaults \u001b[38;5;241m=\u001b[39m _refine_defaults_read(\n\u001b[0;32m    900\u001b[0m     dialect,\n\u001b[0;32m    901\u001b[0m     delimiter,\n\u001b[1;32m   (...)\u001b[0m\n\u001b[0;32m    908\u001b[0m     dtype_backend\u001b[38;5;241m=\u001b[39mdtype_backend,\n\u001b[0;32m    909\u001b[0m )\n\u001b[0;32m    910\u001b[0m kwds\u001b[38;5;241m.\u001b[39mupdate(kwds_defaults)\n\u001b[1;32m--> 912\u001b[0m \u001b[38;5;28;01mreturn\u001b[39;00m _read(filepath_or_buffer, kwds)\n",
      "File \u001b[1;32m~\\anaconda3\\Lib\\site-packages\\pandas\\io\\parsers\\readers.py:577\u001b[0m, in \u001b[0;36m_read\u001b[1;34m(filepath_or_buffer, kwds)\u001b[0m\n\u001b[0;32m    574\u001b[0m _validate_names(kwds\u001b[38;5;241m.\u001b[39mget(\u001b[38;5;124m\"\u001b[39m\u001b[38;5;124mnames\u001b[39m\u001b[38;5;124m\"\u001b[39m, \u001b[38;5;28;01mNone\u001b[39;00m))\n\u001b[0;32m    576\u001b[0m \u001b[38;5;66;03m# Create the parser.\u001b[39;00m\n\u001b[1;32m--> 577\u001b[0m parser \u001b[38;5;241m=\u001b[39m TextFileReader(filepath_or_buffer, \u001b[38;5;241m*\u001b[39m\u001b[38;5;241m*\u001b[39mkwds)\n\u001b[0;32m    579\u001b[0m \u001b[38;5;28;01mif\u001b[39;00m chunksize \u001b[38;5;129;01mor\u001b[39;00m iterator:\n\u001b[0;32m    580\u001b[0m     \u001b[38;5;28;01mreturn\u001b[39;00m parser\n",
      "File \u001b[1;32m~\\anaconda3\\Lib\\site-packages\\pandas\\io\\parsers\\readers.py:1407\u001b[0m, in \u001b[0;36mTextFileReader.__init__\u001b[1;34m(self, f, engine, **kwds)\u001b[0m\n\u001b[0;32m   1404\u001b[0m     \u001b[38;5;28mself\u001b[39m\u001b[38;5;241m.\u001b[39moptions[\u001b[38;5;124m\"\u001b[39m\u001b[38;5;124mhas_index_names\u001b[39m\u001b[38;5;124m\"\u001b[39m] \u001b[38;5;241m=\u001b[39m kwds[\u001b[38;5;124m\"\u001b[39m\u001b[38;5;124mhas_index_names\u001b[39m\u001b[38;5;124m\"\u001b[39m]\n\u001b[0;32m   1406\u001b[0m \u001b[38;5;28mself\u001b[39m\u001b[38;5;241m.\u001b[39mhandles: IOHandles \u001b[38;5;241m|\u001b[39m \u001b[38;5;28;01mNone\u001b[39;00m \u001b[38;5;241m=\u001b[39m \u001b[38;5;28;01mNone\u001b[39;00m\n\u001b[1;32m-> 1407\u001b[0m \u001b[38;5;28mself\u001b[39m\u001b[38;5;241m.\u001b[39m_engine \u001b[38;5;241m=\u001b[39m \u001b[38;5;28mself\u001b[39m\u001b[38;5;241m.\u001b[39m_make_engine(f, \u001b[38;5;28mself\u001b[39m\u001b[38;5;241m.\u001b[39mengine)\n",
      "File \u001b[1;32m~\\anaconda3\\Lib\\site-packages\\pandas\\io\\parsers\\readers.py:1661\u001b[0m, in \u001b[0;36mTextFileReader._make_engine\u001b[1;34m(self, f, engine)\u001b[0m\n\u001b[0;32m   1659\u001b[0m     \u001b[38;5;28;01mif\u001b[39;00m \u001b[38;5;124m\"\u001b[39m\u001b[38;5;124mb\u001b[39m\u001b[38;5;124m\"\u001b[39m \u001b[38;5;129;01mnot\u001b[39;00m \u001b[38;5;129;01min\u001b[39;00m mode:\n\u001b[0;32m   1660\u001b[0m         mode \u001b[38;5;241m+\u001b[39m\u001b[38;5;241m=\u001b[39m \u001b[38;5;124m\"\u001b[39m\u001b[38;5;124mb\u001b[39m\u001b[38;5;124m\"\u001b[39m\n\u001b[1;32m-> 1661\u001b[0m \u001b[38;5;28mself\u001b[39m\u001b[38;5;241m.\u001b[39mhandles \u001b[38;5;241m=\u001b[39m get_handle(\n\u001b[0;32m   1662\u001b[0m     f,\n\u001b[0;32m   1663\u001b[0m     mode,\n\u001b[0;32m   1664\u001b[0m     encoding\u001b[38;5;241m=\u001b[39m\u001b[38;5;28mself\u001b[39m\u001b[38;5;241m.\u001b[39moptions\u001b[38;5;241m.\u001b[39mget(\u001b[38;5;124m\"\u001b[39m\u001b[38;5;124mencoding\u001b[39m\u001b[38;5;124m\"\u001b[39m, \u001b[38;5;28;01mNone\u001b[39;00m),\n\u001b[0;32m   1665\u001b[0m     compression\u001b[38;5;241m=\u001b[39m\u001b[38;5;28mself\u001b[39m\u001b[38;5;241m.\u001b[39moptions\u001b[38;5;241m.\u001b[39mget(\u001b[38;5;124m\"\u001b[39m\u001b[38;5;124mcompression\u001b[39m\u001b[38;5;124m\"\u001b[39m, \u001b[38;5;28;01mNone\u001b[39;00m),\n\u001b[0;32m   1666\u001b[0m     memory_map\u001b[38;5;241m=\u001b[39m\u001b[38;5;28mself\u001b[39m\u001b[38;5;241m.\u001b[39moptions\u001b[38;5;241m.\u001b[39mget(\u001b[38;5;124m\"\u001b[39m\u001b[38;5;124mmemory_map\u001b[39m\u001b[38;5;124m\"\u001b[39m, \u001b[38;5;28;01mFalse\u001b[39;00m),\n\u001b[0;32m   1667\u001b[0m     is_text\u001b[38;5;241m=\u001b[39mis_text,\n\u001b[0;32m   1668\u001b[0m     errors\u001b[38;5;241m=\u001b[39m\u001b[38;5;28mself\u001b[39m\u001b[38;5;241m.\u001b[39moptions\u001b[38;5;241m.\u001b[39mget(\u001b[38;5;124m\"\u001b[39m\u001b[38;5;124mencoding_errors\u001b[39m\u001b[38;5;124m\"\u001b[39m, \u001b[38;5;124m\"\u001b[39m\u001b[38;5;124mstrict\u001b[39m\u001b[38;5;124m\"\u001b[39m),\n\u001b[0;32m   1669\u001b[0m     storage_options\u001b[38;5;241m=\u001b[39m\u001b[38;5;28mself\u001b[39m\u001b[38;5;241m.\u001b[39moptions\u001b[38;5;241m.\u001b[39mget(\u001b[38;5;124m\"\u001b[39m\u001b[38;5;124mstorage_options\u001b[39m\u001b[38;5;124m\"\u001b[39m, \u001b[38;5;28;01mNone\u001b[39;00m),\n\u001b[0;32m   1670\u001b[0m )\n\u001b[0;32m   1671\u001b[0m \u001b[38;5;28;01massert\u001b[39;00m \u001b[38;5;28mself\u001b[39m\u001b[38;5;241m.\u001b[39mhandles \u001b[38;5;129;01mis\u001b[39;00m \u001b[38;5;129;01mnot\u001b[39;00m \u001b[38;5;28;01mNone\u001b[39;00m\n\u001b[0;32m   1672\u001b[0m f \u001b[38;5;241m=\u001b[39m \u001b[38;5;28mself\u001b[39m\u001b[38;5;241m.\u001b[39mhandles\u001b[38;5;241m.\u001b[39mhandle\n",
      "File \u001b[1;32m~\\anaconda3\\Lib\\site-packages\\pandas\\io\\common.py:859\u001b[0m, in \u001b[0;36mget_handle\u001b[1;34m(path_or_buf, mode, encoding, compression, memory_map, is_text, errors, storage_options)\u001b[0m\n\u001b[0;32m    854\u001b[0m \u001b[38;5;28;01melif\u001b[39;00m \u001b[38;5;28misinstance\u001b[39m(handle, \u001b[38;5;28mstr\u001b[39m):\n\u001b[0;32m    855\u001b[0m     \u001b[38;5;66;03m# Check whether the filename is to be opened in binary mode.\u001b[39;00m\n\u001b[0;32m    856\u001b[0m     \u001b[38;5;66;03m# Binary mode does not support 'encoding' and 'newline'.\u001b[39;00m\n\u001b[0;32m    857\u001b[0m     \u001b[38;5;28;01mif\u001b[39;00m ioargs\u001b[38;5;241m.\u001b[39mencoding \u001b[38;5;129;01mand\u001b[39;00m \u001b[38;5;124m\"\u001b[39m\u001b[38;5;124mb\u001b[39m\u001b[38;5;124m\"\u001b[39m \u001b[38;5;129;01mnot\u001b[39;00m \u001b[38;5;129;01min\u001b[39;00m ioargs\u001b[38;5;241m.\u001b[39mmode:\n\u001b[0;32m    858\u001b[0m         \u001b[38;5;66;03m# Encoding\u001b[39;00m\n\u001b[1;32m--> 859\u001b[0m         handle \u001b[38;5;241m=\u001b[39m \u001b[38;5;28mopen\u001b[39m(\n\u001b[0;32m    860\u001b[0m             handle,\n\u001b[0;32m    861\u001b[0m             ioargs\u001b[38;5;241m.\u001b[39mmode,\n\u001b[0;32m    862\u001b[0m             encoding\u001b[38;5;241m=\u001b[39mioargs\u001b[38;5;241m.\u001b[39mencoding,\n\u001b[0;32m    863\u001b[0m             errors\u001b[38;5;241m=\u001b[39merrors,\n\u001b[0;32m    864\u001b[0m             newline\u001b[38;5;241m=\u001b[39m\u001b[38;5;124m\"\u001b[39m\u001b[38;5;124m\"\u001b[39m,\n\u001b[0;32m    865\u001b[0m         )\n\u001b[0;32m    866\u001b[0m     \u001b[38;5;28;01melse\u001b[39;00m:\n\u001b[0;32m    867\u001b[0m         \u001b[38;5;66;03m# Binary mode\u001b[39;00m\n\u001b[0;32m    868\u001b[0m         handle \u001b[38;5;241m=\u001b[39m \u001b[38;5;28mopen\u001b[39m(handle, ioargs\u001b[38;5;241m.\u001b[39mmode)\n",
      "\u001b[1;31mFileNotFoundError\u001b[0m: [Errno 2] No such file or directory: 'C:\\\\Users\\\\MOEED\\\\Desktop\\\\Knowledge Streams\\\\elections.csv'"
     ]
    }
   ],
   "source": [
    "elections = pd.read_csv(\"C:\\\\Users\\\\MOEED\\Desktop\\Knowledge Streams\\elections.csv\") # reading a CSV file into a data frame\n",
    "# Answer Here"
   ]
  },
  {
   "cell_type": "markdown",
   "metadata": {
    "id": "Qpjba2Q-FVO3"
   },
   "source": [
    "We will nowe work with a dataset containing the names of all babies born in California, USA. Visit the [Social Security Adminisitration Website](https://www.ssa.gov/oact/babynames/limits.html) for more details about the dataset if you want."
   ]
  },
  {
   "cell_type": "markdown",
   "metadata": {
    "id": "8Cy00jhFFVO4"
   },
   "source": [
    "**Let's start by loading the Baby Names dataset.**"
   ]
  },
  {
   "cell_type": "code",
   "execution_count": 170,
   "metadata": {
    "id": "9VAZe6aBFVO4"
   },
   "outputs": [
    {
     "data": {
      "text/html": [
       "<div>\n",
       "<style scoped>\n",
       "    .dataframe tbody tr th:only-of-type {\n",
       "        vertical-align: middle;\n",
       "    }\n",
       "\n",
       "    .dataframe tbody tr th {\n",
       "        vertical-align: top;\n",
       "    }\n",
       "\n",
       "    .dataframe thead th {\n",
       "        text-align: right;\n",
       "    }\n",
       "</style>\n",
       "<table border=\"1\" class=\"dataframe\">\n",
       "  <thead>\n",
       "    <tr style=\"text-align: right;\">\n",
       "      <th></th>\n",
       "      <th>State</th>\n",
       "      <th>Sex</th>\n",
       "      <th>Year</th>\n",
       "      <th>Name</th>\n",
       "      <th>Count</th>\n",
       "    </tr>\n",
       "  </thead>\n",
       "  <tbody>\n",
       "    <tr>\n",
       "      <th>0</th>\n",
       "      <td>CA</td>\n",
       "      <td>F</td>\n",
       "      <td>1910</td>\n",
       "      <td>Mary</td>\n",
       "      <td>295</td>\n",
       "    </tr>\n",
       "    <tr>\n",
       "      <th>1</th>\n",
       "      <td>CA</td>\n",
       "      <td>F</td>\n",
       "      <td>1910</td>\n",
       "      <td>Helen</td>\n",
       "      <td>239</td>\n",
       "    </tr>\n",
       "    <tr>\n",
       "      <th>2</th>\n",
       "      <td>CA</td>\n",
       "      <td>F</td>\n",
       "      <td>1910</td>\n",
       "      <td>Dorothy</td>\n",
       "      <td>220</td>\n",
       "    </tr>\n",
       "    <tr>\n",
       "      <th>3</th>\n",
       "      <td>CA</td>\n",
       "      <td>F</td>\n",
       "      <td>1910</td>\n",
       "      <td>Margaret</td>\n",
       "      <td>163</td>\n",
       "    </tr>\n",
       "    <tr>\n",
       "      <th>4</th>\n",
       "      <td>CA</td>\n",
       "      <td>F</td>\n",
       "      <td>1910</td>\n",
       "      <td>Frances</td>\n",
       "      <td>134</td>\n",
       "    </tr>\n",
       "    <tr>\n",
       "      <th>5</th>\n",
       "      <td>CA</td>\n",
       "      <td>F</td>\n",
       "      <td>1910</td>\n",
       "      <td>Ruth</td>\n",
       "      <td>128</td>\n",
       "    </tr>\n",
       "    <tr>\n",
       "      <th>6</th>\n",
       "      <td>CA</td>\n",
       "      <td>F</td>\n",
       "      <td>1910</td>\n",
       "      <td>Evelyn</td>\n",
       "      <td>126</td>\n",
       "    </tr>\n",
       "    <tr>\n",
       "      <th>7</th>\n",
       "      <td>CA</td>\n",
       "      <td>F</td>\n",
       "      <td>1910</td>\n",
       "      <td>Alice</td>\n",
       "      <td>118</td>\n",
       "    </tr>\n",
       "    <tr>\n",
       "      <th>8</th>\n",
       "      <td>CA</td>\n",
       "      <td>F</td>\n",
       "      <td>1910</td>\n",
       "      <td>Virginia</td>\n",
       "      <td>101</td>\n",
       "    </tr>\n",
       "    <tr>\n",
       "      <th>9</th>\n",
       "      <td>CA</td>\n",
       "      <td>F</td>\n",
       "      <td>1910</td>\n",
       "      <td>Elizabeth</td>\n",
       "      <td>93</td>\n",
       "    </tr>\n",
       "    <tr>\n",
       "      <th>10</th>\n",
       "      <td>CA</td>\n",
       "      <td>F</td>\n",
       "      <td>1910</td>\n",
       "      <td>Florence</td>\n",
       "      <td>93</td>\n",
       "    </tr>\n",
       "    <tr>\n",
       "      <th>11</th>\n",
       "      <td>CA</td>\n",
       "      <td>F</td>\n",
       "      <td>1910</td>\n",
       "      <td>Marie</td>\n",
       "      <td>90</td>\n",
       "    </tr>\n",
       "    <tr>\n",
       "      <th>12</th>\n",
       "      <td>CA</td>\n",
       "      <td>F</td>\n",
       "      <td>1910</td>\n",
       "      <td>Mildred</td>\n",
       "      <td>90</td>\n",
       "    </tr>\n",
       "    <tr>\n",
       "      <th>13</th>\n",
       "      <td>CA</td>\n",
       "      <td>F</td>\n",
       "      <td>1910</td>\n",
       "      <td>Rose</td>\n",
       "      <td>74</td>\n",
       "    </tr>\n",
       "    <tr>\n",
       "      <th>14</th>\n",
       "      <td>CA</td>\n",
       "      <td>F</td>\n",
       "      <td>1910</td>\n",
       "      <td>Hazel</td>\n",
       "      <td>68</td>\n",
       "    </tr>\n",
       "  </tbody>\n",
       "</table>\n",
       "</div>"
      ],
      "text/plain": [
       "   State Sex  Year       Name  Count\n",
       "0     CA   F  1910       Mary    295\n",
       "1     CA   F  1910      Helen    239\n",
       "2     CA   F  1910    Dorothy    220\n",
       "3     CA   F  1910   Margaret    163\n",
       "4     CA   F  1910    Frances    134\n",
       "5     CA   F  1910       Ruth    128\n",
       "6     CA   F  1910     Evelyn    126\n",
       "7     CA   F  1910      Alice    118\n",
       "8     CA   F  1910   Virginia    101\n",
       "9     CA   F  1910  Elizabeth     93\n",
       "10    CA   F  1910   Florence     93\n",
       "11    CA   F  1910      Marie     90\n",
       "12    CA   F  1910    Mildred     90\n",
       "13    CA   F  1910       Rose     74\n",
       "14    CA   F  1910      Hazel     68"
      ]
     },
     "execution_count": 170,
     "metadata": {},
     "output_type": "execute_result"
    }
   ],
   "source": [
    "import urllib.request\n",
    "import os.path\n",
    "import zipfile\n",
    "import pandas as pd\n",
    "\n",
    "data_url = \"https://www.ssa.gov/oact/babynames/state/namesbystate.zip\"\n",
    "local_filename = \"babynamesbystate.zip\"\n",
    "if not os.path.exists(local_filename): # if the data exists don't download again\n",
    "    with urllib.request.urlopen(data_url) as resp, open(local_filename, 'wb') as f:\n",
    "        f.write(resp.read())\n",
    "\n",
    "zf = zipfile.ZipFile(local_filename, 'r')\n",
    "\n",
    "ca_name = 'STATE.CA.TXT'\n",
    "field_names = ['State', 'Sex', 'Year', 'Name', 'Count']\n",
    "with zf.open(ca_name) as fh:\n",
    "    babynames = pd.read_csv(fh, header=None, names=field_names)\n",
    "\n",
    "babynames.head(15)"
   ]
  },
  {
   "cell_type": "markdown",
   "metadata": {
    "id": "6WTNw56KfRA2"
   },
   "source": [
    "# Q2.\n",
    "Calculate the some statics of babynames DataFrame using Utility Functions, like .describe(), .size(), .shape() and report your analysis in comments"
   ]
  },
  {
   "cell_type": "code",
   "execution_count": 115,
   "metadata": {
    "id": "WOX88FOSFVO5",
    "scrolled": true
   },
   "outputs": [
    {
     "data": {
      "text/html": [
       "<div>\n",
       "<style scoped>\n",
       "    .dataframe tbody tr th:only-of-type {\n",
       "        vertical-align: middle;\n",
       "    }\n",
       "\n",
       "    .dataframe tbody tr th {\n",
       "        vertical-align: top;\n",
       "    }\n",
       "\n",
       "    .dataframe thead th {\n",
       "        text-align: right;\n",
       "    }\n",
       "</style>\n",
       "<table border=\"1\" class=\"dataframe\">\n",
       "  <thead>\n",
       "    <tr style=\"text-align: right;\">\n",
       "      <th></th>\n",
       "      <th>Year</th>\n",
       "      <th>Count</th>\n",
       "    </tr>\n",
       "  </thead>\n",
       "  <tbody>\n",
       "    <tr>\n",
       "      <th>count</th>\n",
       "      <td>407428.000000</td>\n",
       "      <td>407428.000000</td>\n",
       "    </tr>\n",
       "    <tr>\n",
       "      <th>mean</th>\n",
       "      <td>1985.733609</td>\n",
       "      <td>79.543456</td>\n",
       "    </tr>\n",
       "    <tr>\n",
       "      <th>std</th>\n",
       "      <td>27.007660</td>\n",
       "      <td>293.698654</td>\n",
       "    </tr>\n",
       "    <tr>\n",
       "      <th>min</th>\n",
       "      <td>1910.000000</td>\n",
       "      <td>5.000000</td>\n",
       "    </tr>\n",
       "    <tr>\n",
       "      <th>25%</th>\n",
       "      <td>1969.000000</td>\n",
       "      <td>7.000000</td>\n",
       "    </tr>\n",
       "    <tr>\n",
       "      <th>50%</th>\n",
       "      <td>1992.000000</td>\n",
       "      <td>13.000000</td>\n",
       "    </tr>\n",
       "    <tr>\n",
       "      <th>75%</th>\n",
       "      <td>2008.000000</td>\n",
       "      <td>38.000000</td>\n",
       "    </tr>\n",
       "    <tr>\n",
       "      <th>max</th>\n",
       "      <td>2022.000000</td>\n",
       "      <td>8260.000000</td>\n",
       "    </tr>\n",
       "  </tbody>\n",
       "</table>\n",
       "</div>"
      ],
      "text/plain": [
       "                Year          Count\n",
       "count  407428.000000  407428.000000\n",
       "mean     1985.733609      79.543456\n",
       "std        27.007660     293.698654\n",
       "min      1910.000000       5.000000\n",
       "25%      1969.000000       7.000000\n",
       "50%      1992.000000      13.000000\n",
       "75%      2008.000000      38.000000\n",
       "max      2022.000000    8260.000000"
      ]
     },
     "execution_count": 115,
     "metadata": {},
     "output_type": "execute_result"
    }
   ],
   "source": [
    "#Answer Here\n",
    "a=babynames.describe()\n",
    "a"
   ]
  },
  {
   "cell_type": "code",
   "execution_count": 70,
   "metadata": {},
   "outputs": [
    {
     "data": {
      "text/plain": [
       "2037140"
      ]
     },
     "execution_count": 70,
     "metadata": {},
     "output_type": "execute_result"
    }
   ],
   "source": [
    "b=babynames.size\n",
    "b"
   ]
  },
  {
   "cell_type": "code",
   "execution_count": 71,
   "metadata": {},
   "outputs": [
    {
     "data": {
      "text/plain": [
       "(407428, 5)"
      ]
     },
     "execution_count": 71,
     "metadata": {},
     "output_type": "execute_result"
    }
   ],
   "source": [
    "c=babynames.shape\n",
    "c"
   ]
  },
  {
   "cell_type": "markdown",
   "metadata": {
    "id": "SfH7STDBhWC7"
   },
   "source": [
    "# Q.3:\n",
    "\n",
    "Using the babynames DataFrame that contains baby names data for the state of California, how can you use the 'isin' method to find out which records have names that are in a given list of names, such as \"Emma,\" \"Liam,\" and \"Olivia,\" and what would be the output of this operation when applied to the first 15 rows of the DataFrame (babynames.head(15))?"
   ]
  },
  {
   "cell_type": "code",
   "execution_count": 116,
   "metadata": {
    "id": "hqBOidu2hpCh"
   },
   "outputs": [
    {
     "data": {
      "text/html": [
       "<div>\n",
       "<style scoped>\n",
       "    .dataframe tbody tr th:only-of-type {\n",
       "        vertical-align: middle;\n",
       "    }\n",
       "\n",
       "    .dataframe tbody tr th {\n",
       "        vertical-align: top;\n",
       "    }\n",
       "\n",
       "    .dataframe thead th {\n",
       "        text-align: right;\n",
       "    }\n",
       "</style>\n",
       "<table border=\"1\" class=\"dataframe\">\n",
       "  <thead>\n",
       "    <tr style=\"text-align: right;\">\n",
       "      <th></th>\n",
       "      <th>State</th>\n",
       "      <th>Sex</th>\n",
       "      <th>Year</th>\n",
       "      <th>Name</th>\n",
       "      <th>Count</th>\n",
       "    </tr>\n",
       "  </thead>\n",
       "  <tbody>\n",
       "    <tr>\n",
       "      <th>53</th>\n",
       "      <td>CA</td>\n",
       "      <td>F</td>\n",
       "      <td>1910</td>\n",
       "      <td>Emma</td>\n",
       "      <td>29</td>\n",
       "    </tr>\n",
       "    <tr>\n",
       "      <th>293</th>\n",
       "      <td>CA</td>\n",
       "      <td>F</td>\n",
       "      <td>1911</td>\n",
       "      <td>Emma</td>\n",
       "      <td>29</td>\n",
       "    </tr>\n",
       "    <tr>\n",
       "      <th>525</th>\n",
       "      <td>CA</td>\n",
       "      <td>F</td>\n",
       "      <td>1912</td>\n",
       "      <td>Emma</td>\n",
       "      <td>56</td>\n",
       "    </tr>\n",
       "    <tr>\n",
       "      <th>701</th>\n",
       "      <td>CA</td>\n",
       "      <td>F</td>\n",
       "      <td>1912</td>\n",
       "      <td>Olivia</td>\n",
       "      <td>8</td>\n",
       "    </tr>\n",
       "    <tr>\n",
       "      <th>840</th>\n",
       "      <td>CA</td>\n",
       "      <td>F</td>\n",
       "      <td>1913</td>\n",
       "      <td>Emma</td>\n",
       "      <td>56</td>\n",
       "    </tr>\n",
       "    <tr>\n",
       "      <th>...</th>\n",
       "      <td>...</td>\n",
       "      <td>...</td>\n",
       "      <td>...</td>\n",
       "      <td>...</td>\n",
       "      <td>...</td>\n",
       "    </tr>\n",
       "    <tr>\n",
       "      <th>396005</th>\n",
       "      <td>CA</td>\n",
       "      <td>M</td>\n",
       "      <td>2019</td>\n",
       "      <td>Liam</td>\n",
       "      <td>2401</td>\n",
       "    </tr>\n",
       "    <tr>\n",
       "      <th>398870</th>\n",
       "      <td>CA</td>\n",
       "      <td>M</td>\n",
       "      <td>2020</td>\n",
       "      <td>Liam</td>\n",
       "      <td>2426</td>\n",
       "    </tr>\n",
       "    <tr>\n",
       "      <th>401402</th>\n",
       "      <td>CA</td>\n",
       "      <td>M</td>\n",
       "      <td>2020</td>\n",
       "      <td>Emma</td>\n",
       "      <td>5</td>\n",
       "    </tr>\n",
       "    <tr>\n",
       "      <th>401666</th>\n",
       "      <td>CA</td>\n",
       "      <td>M</td>\n",
       "      <td>2021</td>\n",
       "      <td>Liam</td>\n",
       "      <td>2477</td>\n",
       "    </tr>\n",
       "    <tr>\n",
       "      <th>404545</th>\n",
       "      <td>CA</td>\n",
       "      <td>M</td>\n",
       "      <td>2022</td>\n",
       "      <td>Liam</td>\n",
       "      <td>2610</td>\n",
       "    </tr>\n",
       "  </tbody>\n",
       "</table>\n",
       "<p>283 rows × 5 columns</p>\n",
       "</div>"
      ],
      "text/plain": [
       "       State Sex  Year    Name  Count\n",
       "53        CA   F  1910    Emma     29\n",
       "293       CA   F  1911    Emma     29\n",
       "525       CA   F  1912    Emma     56\n",
       "701       CA   F  1912  Olivia      8\n",
       "840       CA   F  1913    Emma     56\n",
       "...      ...  ..   ...     ...    ...\n",
       "396005    CA   M  2019    Liam   2401\n",
       "398870    CA   M  2020    Liam   2426\n",
       "401402    CA   M  2020    Emma      5\n",
       "401666    CA   M  2021    Liam   2477\n",
       "404545    CA   M  2022    Liam   2610\n",
       "\n",
       "[283 rows x 5 columns]"
      ]
     },
     "execution_count": 116,
     "metadata": {},
     "output_type": "execute_result"
    }
   ],
   "source": [
    "# List of names to check\n",
    "name=['Emma','Liam','Olivia']\n",
    "\n",
    "\n",
    "# Use the isin method to filter records with names in the name_list\n",
    "babynames[babynames['Name'].isin(name)]\n",
    "# Display the filtered DataFrame\n"
   ]
  },
  {
   "cell_type": "markdown",
   "metadata": {
    "id": "3LdJ07oPinL7"
   },
   "source": [
    "# Q.4:\n",
    "How can you use the 'str.startswith' method in pandas to filter records in a babyname DataFrame? Provide an example code using the babynames DataFrame and explain how this method can be employed to extract data for baby names that begin with 'A' or 'B' set of letters."
   ]
  },
  {
   "cell_type": "code",
   "execution_count": 117,
   "metadata": {
    "id": "tVqVmJ4ajln9"
   },
   "outputs": [
    {
     "data": {
      "text/html": [
       "<div>\n",
       "<style scoped>\n",
       "    .dataframe tbody tr th:only-of-type {\n",
       "        vertical-align: middle;\n",
       "    }\n",
       "\n",
       "    .dataframe tbody tr th {\n",
       "        vertical-align: top;\n",
       "    }\n",
       "\n",
       "    .dataframe thead th {\n",
       "        text-align: right;\n",
       "    }\n",
       "</style>\n",
       "<table border=\"1\" class=\"dataframe\">\n",
       "  <thead>\n",
       "    <tr style=\"text-align: right;\">\n",
       "      <th></th>\n",
       "      <th>State</th>\n",
       "      <th>Sex</th>\n",
       "      <th>Year</th>\n",
       "      <th>Name</th>\n",
       "      <th>Count</th>\n",
       "    </tr>\n",
       "  </thead>\n",
       "  <tbody>\n",
       "    <tr>\n",
       "      <th>7</th>\n",
       "      <td>CA</td>\n",
       "      <td>F</td>\n",
       "      <td>1910</td>\n",
       "      <td>Alice</td>\n",
       "      <td>118</td>\n",
       "    </tr>\n",
       "    <tr>\n",
       "      <th>31</th>\n",
       "      <td>CA</td>\n",
       "      <td>F</td>\n",
       "      <td>1910</td>\n",
       "      <td>Anna</td>\n",
       "      <td>51</td>\n",
       "    </tr>\n",
       "    <tr>\n",
       "      <th>32</th>\n",
       "      <td>CA</td>\n",
       "      <td>F</td>\n",
       "      <td>1910</td>\n",
       "      <td>Ann</td>\n",
       "      <td>47</td>\n",
       "    </tr>\n",
       "    <tr>\n",
       "      <th>57</th>\n",
       "      <td>CA</td>\n",
       "      <td>F</td>\n",
       "      <td>1910</td>\n",
       "      <td>Anita</td>\n",
       "      <td>28</td>\n",
       "    </tr>\n",
       "    <tr>\n",
       "      <th>68</th>\n",
       "      <td>CA</td>\n",
       "      <td>F</td>\n",
       "      <td>1910</td>\n",
       "      <td>Alma</td>\n",
       "      <td>24</td>\n",
       "    </tr>\n",
       "    <tr>\n",
       "      <th>...</th>\n",
       "      <td>...</td>\n",
       "      <td>...</td>\n",
       "      <td>...</td>\n",
       "      <td>...</td>\n",
       "      <td>...</td>\n",
       "    </tr>\n",
       "    <tr>\n",
       "      <th>407112</th>\n",
       "      <td>CA</td>\n",
       "      <td>M</td>\n",
       "      <td>2022</td>\n",
       "      <td>Avinash</td>\n",
       "      <td>5</td>\n",
       "    </tr>\n",
       "    <tr>\n",
       "      <th>407113</th>\n",
       "      <td>CA</td>\n",
       "      <td>M</td>\n",
       "      <td>2022</td>\n",
       "      <td>Avyukth</td>\n",
       "      <td>5</td>\n",
       "    </tr>\n",
       "    <tr>\n",
       "      <th>407114</th>\n",
       "      <td>CA</td>\n",
       "      <td>M</td>\n",
       "      <td>2022</td>\n",
       "      <td>Aycen</td>\n",
       "      <td>5</td>\n",
       "    </tr>\n",
       "    <tr>\n",
       "      <th>407115</th>\n",
       "      <td>CA</td>\n",
       "      <td>M</td>\n",
       "      <td>2022</td>\n",
       "      <td>Ayrton</td>\n",
       "      <td>5</td>\n",
       "    </tr>\n",
       "    <tr>\n",
       "      <th>407116</th>\n",
       "      <td>CA</td>\n",
       "      <td>M</td>\n",
       "      <td>2022</td>\n",
       "      <td>Azad</td>\n",
       "      <td>5</td>\n",
       "    </tr>\n",
       "  </tbody>\n",
       "</table>\n",
       "<p>44760 rows × 5 columns</p>\n",
       "</div>"
      ],
      "text/plain": [
       "       State Sex  Year     Name  Count\n",
       "7         CA   F  1910    Alice    118\n",
       "31        CA   F  1910     Anna     51\n",
       "32        CA   F  1910      Ann     47\n",
       "57        CA   F  1910    Anita     28\n",
       "68        CA   F  1910     Alma     24\n",
       "...      ...  ..   ...      ...    ...\n",
       "407112    CA   M  2022  Avinash      5\n",
       "407113    CA   M  2022  Avyukth      5\n",
       "407114    CA   M  2022    Aycen      5\n",
       "407115    CA   M  2022   Ayrton      5\n",
       "407116    CA   M  2022     Azad      5\n",
       "\n",
       "[44760 rows x 5 columns]"
      ]
     },
     "execution_count": 117,
     "metadata": {},
     "output_type": "execute_result"
    }
   ],
   "source": [
    "# Filter rows where the 'Name' column starts with 'A' Or 'B'\n",
    "b=babynames[babynames['Name'].str.startswith('A','B')]\n",
    "\n",
    "# Display the filtered DataFrame\n",
    "b"
   ]
  },
  {
   "cell_type": "markdown",
   "metadata": {
    "id": "pMQ3UZysFVO6"
   },
   "source": [
    "# Q.5\n",
    "\n",
    "Find the most popular baby name in California in 2012\n",
    "\n",
    "__Exercise__: Try to find the most popular baby name by finding the maximum value for 'Count' and then apply filtering to find the name.\n"
   ]
  },
  {
   "cell_type": "code",
   "execution_count": 118,
   "metadata": {},
   "outputs": [
    {
     "data": {
      "text/plain": [
       "'Sophia'"
      ]
     },
     "execution_count": 118,
     "metadata": {},
     "output_type": "execute_result"
    }
   ],
   "source": [
    "CA_names=babynames[babynames['State'].isin(['CA']) & babynames['Year'].isin([2012])]\n",
    "popular=CA_names['Count'].max()\n",
    "pop=CA_names[CA_names['Count']== popular]\n",
    "pop=pop.iloc[0]['Name']\n",
    "pop"
   ]
  },
  {
   "cell_type": "markdown",
   "metadata": {
    "id": "oENLC2gLFVO7"
   },
   "source": [
    "# Q. 6\n",
    "Find baby names that start with J, in th Year from 2001 to 2019\n",
    "\n",
    "*Note: To answer this question, we need a way to look at the individual characters of the baby names*"
   ]
  },
  {
   "cell_type": "code",
   "execution_count": 119,
   "metadata": {
    "id": "Z2wBuGwyFVO7"
   },
   "outputs": [
    {
     "data": {
      "text/html": [
       "<div>\n",
       "<style scoped>\n",
       "    .dataframe tbody tr th:only-of-type {\n",
       "        vertical-align: middle;\n",
       "    }\n",
       "\n",
       "    .dataframe tbody tr th {\n",
       "        vertical-align: top;\n",
       "    }\n",
       "\n",
       "    .dataframe thead th {\n",
       "        text-align: right;\n",
       "    }\n",
       "</style>\n",
       "<table border=\"1\" class=\"dataframe\">\n",
       "  <thead>\n",
       "    <tr style=\"text-align: right;\">\n",
       "      <th></th>\n",
       "      <th>State</th>\n",
       "      <th>Sex</th>\n",
       "      <th>Year</th>\n",
       "      <th>Name</th>\n",
       "      <th>Count</th>\n",
       "    </tr>\n",
       "  </thead>\n",
       "  <tbody>\n",
       "    <tr>\n",
       "      <th>152826</th>\n",
       "      <td>CA</td>\n",
       "      <td>F</td>\n",
       "      <td>2001</td>\n",
       "      <td>Jessica</td>\n",
       "      <td>2244</td>\n",
       "    </tr>\n",
       "    <tr>\n",
       "      <th>152828</th>\n",
       "      <td>CA</td>\n",
       "      <td>F</td>\n",
       "      <td>2001</td>\n",
       "      <td>Jennifer</td>\n",
       "      <td>2027</td>\n",
       "    </tr>\n",
       "    <tr>\n",
       "      <th>152832</th>\n",
       "      <td>CA</td>\n",
       "      <td>F</td>\n",
       "      <td>2001</td>\n",
       "      <td>Jasmine</td>\n",
       "      <td>1655</td>\n",
       "    </tr>\n",
       "    <tr>\n",
       "      <th>152847</th>\n",
       "      <td>CA</td>\n",
       "      <td>F</td>\n",
       "      <td>2001</td>\n",
       "      <td>Jacqueline</td>\n",
       "      <td>1195</td>\n",
       "    </tr>\n",
       "    <tr>\n",
       "      <th>152857</th>\n",
       "      <td>CA</td>\n",
       "      <td>F</td>\n",
       "      <td>2001</td>\n",
       "      <td>Julia</td>\n",
       "      <td>983</td>\n",
       "    </tr>\n",
       "    <tr>\n",
       "      <th>...</th>\n",
       "      <td>...</td>\n",
       "      <td>...</td>\n",
       "      <td>...</td>\n",
       "      <td>...</td>\n",
       "      <td>...</td>\n",
       "    </tr>\n",
       "    <tr>\n",
       "      <th>398685</th>\n",
       "      <td>CA</td>\n",
       "      <td>M</td>\n",
       "      <td>2019</td>\n",
       "      <td>Joseantonio</td>\n",
       "      <td>5</td>\n",
       "    </tr>\n",
       "    <tr>\n",
       "      <th>398686</th>\n",
       "      <td>CA</td>\n",
       "      <td>M</td>\n",
       "      <td>2019</td>\n",
       "      <td>Jovian</td>\n",
       "      <td>5</td>\n",
       "    </tr>\n",
       "    <tr>\n",
       "      <th>398687</th>\n",
       "      <td>CA</td>\n",
       "      <td>M</td>\n",
       "      <td>2019</td>\n",
       "      <td>Jujhar</td>\n",
       "      <td>5</td>\n",
       "    </tr>\n",
       "    <tr>\n",
       "      <th>398688</th>\n",
       "      <td>CA</td>\n",
       "      <td>M</td>\n",
       "      <td>2019</td>\n",
       "      <td>Jullian</td>\n",
       "      <td>5</td>\n",
       "    </tr>\n",
       "    <tr>\n",
       "      <th>398689</th>\n",
       "      <td>CA</td>\n",
       "      <td>M</td>\n",
       "      <td>2019</td>\n",
       "      <td>June</td>\n",
       "      <td>5</td>\n",
       "    </tr>\n",
       "  </tbody>\n",
       "</table>\n",
       "<p>11276 rows × 5 columns</p>\n",
       "</div>"
      ],
      "text/plain": [
       "       State Sex  Year         Name  Count\n",
       "152826    CA   F  2001      Jessica   2244\n",
       "152828    CA   F  2001     Jennifer   2027\n",
       "152832    CA   F  2001      Jasmine   1655\n",
       "152847    CA   F  2001   Jacqueline   1195\n",
       "152857    CA   F  2001        Julia    983\n",
       "...      ...  ..   ...          ...    ...\n",
       "398685    CA   M  2019  Joseantonio      5\n",
       "398686    CA   M  2019       Jovian      5\n",
       "398687    CA   M  2019       Jujhar      5\n",
       "398688    CA   M  2019      Jullian      5\n",
       "398689    CA   M  2019         June      5\n",
       "\n",
       "[11276 rows x 5 columns]"
      ]
     },
     "execution_count": 119,
     "metadata": {},
     "output_type": "execute_result"
    }
   ],
   "source": [
    "# Answer Here\n",
    "babynames[babynames['Name'].str.startswith('J') & babynames['Year'].isin(range(2001,2020))]"
   ]
  },
  {
   "cell_type": "markdown",
   "metadata": {
    "id": "8RiGrIV-mIbP"
   },
   "source": [
    "# Q.7\n",
    "Add a new column called \"name_length\" to the babynames DataFrame, you can use .str.len() in existing Name column. Moreover. also modify the Length values with new values like existing_value-1 and rename the length column with new label as desceribe in slides.\n",
    "\n"
   ]
  },
  {
   "cell_type": "code",
   "execution_count": 155,
   "metadata": {
    "id": "SQEAYy8Jm8lu"
   },
   "outputs": [
    {
     "data": {
      "text/html": [
       "<div>\n",
       "<style scoped>\n",
       "    .dataframe tbody tr th:only-of-type {\n",
       "        vertical-align: middle;\n",
       "    }\n",
       "\n",
       "    .dataframe tbody tr th {\n",
       "        vertical-align: top;\n",
       "    }\n",
       "\n",
       "    .dataframe thead th {\n",
       "        text-align: right;\n",
       "    }\n",
       "</style>\n",
       "<table border=\"1\" class=\"dataframe\">\n",
       "  <thead>\n",
       "    <tr style=\"text-align: right;\">\n",
       "      <th></th>\n",
       "      <th>State</th>\n",
       "      <th>Sex</th>\n",
       "      <th>Year</th>\n",
       "      <th>Name</th>\n",
       "      <th>Count</th>\n",
       "    </tr>\n",
       "  </thead>\n",
       "  <tbody>\n",
       "    <tr>\n",
       "      <th>0</th>\n",
       "      <td>CA</td>\n",
       "      <td>F</td>\n",
       "      <td>1910</td>\n",
       "      <td>Mary</td>\n",
       "      <td>295</td>\n",
       "    </tr>\n",
       "    <tr>\n",
       "      <th>1</th>\n",
       "      <td>CA</td>\n",
       "      <td>F</td>\n",
       "      <td>1910</td>\n",
       "      <td>Helen</td>\n",
       "      <td>239</td>\n",
       "    </tr>\n",
       "    <tr>\n",
       "      <th>2</th>\n",
       "      <td>CA</td>\n",
       "      <td>F</td>\n",
       "      <td>1910</td>\n",
       "      <td>Dorothy</td>\n",
       "      <td>220</td>\n",
       "    </tr>\n",
       "    <tr>\n",
       "      <th>3</th>\n",
       "      <td>CA</td>\n",
       "      <td>F</td>\n",
       "      <td>1910</td>\n",
       "      <td>Margaret</td>\n",
       "      <td>163</td>\n",
       "    </tr>\n",
       "    <tr>\n",
       "      <th>4</th>\n",
       "      <td>CA</td>\n",
       "      <td>F</td>\n",
       "      <td>1910</td>\n",
       "      <td>Frances</td>\n",
       "      <td>134</td>\n",
       "    </tr>\n",
       "    <tr>\n",
       "      <th>...</th>\n",
       "      <td>...</td>\n",
       "      <td>...</td>\n",
       "      <td>...</td>\n",
       "      <td>...</td>\n",
       "      <td>...</td>\n",
       "    </tr>\n",
       "    <tr>\n",
       "      <th>407423</th>\n",
       "      <td>CA</td>\n",
       "      <td>M</td>\n",
       "      <td>2022</td>\n",
       "      <td>Zayvier</td>\n",
       "      <td>5</td>\n",
       "    </tr>\n",
       "    <tr>\n",
       "      <th>407424</th>\n",
       "      <td>CA</td>\n",
       "      <td>M</td>\n",
       "      <td>2022</td>\n",
       "      <td>Zia</td>\n",
       "      <td>5</td>\n",
       "    </tr>\n",
       "    <tr>\n",
       "      <th>407425</th>\n",
       "      <td>CA</td>\n",
       "      <td>M</td>\n",
       "      <td>2022</td>\n",
       "      <td>Zora</td>\n",
       "      <td>5</td>\n",
       "    </tr>\n",
       "    <tr>\n",
       "      <th>407426</th>\n",
       "      <td>CA</td>\n",
       "      <td>M</td>\n",
       "      <td>2022</td>\n",
       "      <td>Zuriel</td>\n",
       "      <td>5</td>\n",
       "    </tr>\n",
       "    <tr>\n",
       "      <th>407427</th>\n",
       "      <td>CA</td>\n",
       "      <td>M</td>\n",
       "      <td>2022</td>\n",
       "      <td>Zylo</td>\n",
       "      <td>5</td>\n",
       "    </tr>\n",
       "  </tbody>\n",
       "</table>\n",
       "<p>407428 rows × 5 columns</p>\n",
       "</div>"
      ],
      "text/plain": [
       "       State Sex  Year      Name  Count\n",
       "0         CA   F  1910      Mary    295\n",
       "1         CA   F  1910     Helen    239\n",
       "2         CA   F  1910   Dorothy    220\n",
       "3         CA   F  1910  Margaret    163\n",
       "4         CA   F  1910   Frances    134\n",
       "...      ...  ..   ...       ...    ...\n",
       "407423    CA   M  2022   Zayvier      5\n",
       "407424    CA   M  2022       Zia      5\n",
       "407425    CA   M  2022      Zora      5\n",
       "407426    CA   M  2022    Zuriel      5\n",
       "407427    CA   M  2022      Zylo      5\n",
       "\n",
       "[407428 rows x 5 columns]"
      ]
     },
     "execution_count": 155,
     "metadata": {},
     "output_type": "execute_result"
    }
   ],
   "source": [
    "# Calculate the length of each name and add it as a new column \"_length\"\n",
    "babynames['name_length']= babynames['Name'].str.len()\n",
    "# Change lenght value of each name\n",
    "babynames['name_length']=babynames['name_length']-1\n",
    "babynames\n",
    "# Rename the \"_length\" column to \"Length\"\n",
    "babynames.rename(columns={'name_length': 'Length'}, inplace=True)\n",
    "babynames\n",
    "# Drop the  \"Length\" column\n",
    "babynames.drop(columns='Length', inplace=True)\n",
    "babynames\n"
   ]
  },
  {
   "cell_type": "markdown",
   "metadata": {
    "id": "1S_7ZKySo6CS"
   },
   "source": [
    "# Q.8\n",
    "\n",
    "Use .str.split() to sample the names with 'ad' string and show first 10 samples."
   ]
  },
  {
   "cell_type": "code",
   "execution_count": 159,
   "metadata": {
    "id": "6ljvNnGxFVO9"
   },
   "outputs": [
    {
     "data": {
      "text/html": [
       "<div>\n",
       "<style scoped>\n",
       "    .dataframe tbody tr th:only-of-type {\n",
       "        vertical-align: middle;\n",
       "    }\n",
       "\n",
       "    .dataframe tbody tr th {\n",
       "        vertical-align: top;\n",
       "    }\n",
       "\n",
       "    .dataframe thead th {\n",
       "        text-align: right;\n",
       "    }\n",
       "</style>\n",
       "<table border=\"1\" class=\"dataframe\">\n",
       "  <thead>\n",
       "    <tr style=\"text-align: right;\">\n",
       "      <th></th>\n",
       "      <th>State</th>\n",
       "      <th>Sex</th>\n",
       "      <th>Year</th>\n",
       "      <th>Name</th>\n",
       "      <th>Count</th>\n",
       "    </tr>\n",
       "  </thead>\n",
       "  <tbody>\n",
       "    <tr>\n",
       "      <th>19</th>\n",
       "      <td>CA</td>\n",
       "      <td>F</td>\n",
       "      <td>1910</td>\n",
       "      <td>Gladys</td>\n",
       "      <td>63</td>\n",
       "    </tr>\n",
       "    <tr>\n",
       "      <th>96</th>\n",
       "      <td>CA</td>\n",
       "      <td>F</td>\n",
       "      <td>1910</td>\n",
       "      <td>Madeline</td>\n",
       "      <td>17</td>\n",
       "    </tr>\n",
       "    <tr>\n",
       "      <th>136</th>\n",
       "      <td>CA</td>\n",
       "      <td>F</td>\n",
       "      <td>1910</td>\n",
       "      <td>Sadie</td>\n",
       "      <td>10</td>\n",
       "    </tr>\n",
       "    <tr>\n",
       "      <th>257</th>\n",
       "      <td>CA</td>\n",
       "      <td>F</td>\n",
       "      <td>1911</td>\n",
       "      <td>Gladys</td>\n",
       "      <td>61</td>\n",
       "    </tr>\n",
       "    <tr>\n",
       "      <th>346</th>\n",
       "      <td>CA</td>\n",
       "      <td>F</td>\n",
       "      <td>1911</td>\n",
       "      <td>Nadine</td>\n",
       "      <td>14</td>\n",
       "    </tr>\n",
       "    <tr>\n",
       "      <th>376</th>\n",
       "      <td>CA</td>\n",
       "      <td>F</td>\n",
       "      <td>1911</td>\n",
       "      <td>Madeline</td>\n",
       "      <td>11</td>\n",
       "    </tr>\n",
       "    <tr>\n",
       "      <th>472</th>\n",
       "      <td>CA</td>\n",
       "      <td>F</td>\n",
       "      <td>1911</td>\n",
       "      <td>Madge</td>\n",
       "      <td>5</td>\n",
       "    </tr>\n",
       "    <tr>\n",
       "      <th>480</th>\n",
       "      <td>CA</td>\n",
       "      <td>F</td>\n",
       "      <td>1911</td>\n",
       "      <td>Sadie</td>\n",
       "      <td>5</td>\n",
       "    </tr>\n",
       "    <tr>\n",
       "      <th>506</th>\n",
       "      <td>CA</td>\n",
       "      <td>F</td>\n",
       "      <td>1912</td>\n",
       "      <td>Gladys</td>\n",
       "      <td>87</td>\n",
       "    </tr>\n",
       "    <tr>\n",
       "      <th>569</th>\n",
       "      <td>CA</td>\n",
       "      <td>F</td>\n",
       "      <td>1912</td>\n",
       "      <td>Madeline</td>\n",
       "      <td>31</td>\n",
       "    </tr>\n",
       "  </tbody>\n",
       "</table>\n",
       "</div>"
      ],
      "text/plain": [
       "    State Sex  Year      Name  Count\n",
       "19     CA   F  1910    Gladys     63\n",
       "96     CA   F  1910  Madeline     17\n",
       "136    CA   F  1910     Sadie     10\n",
       "257    CA   F  1911    Gladys     61\n",
       "346    CA   F  1911    Nadine     14\n",
       "376    CA   F  1911  Madeline     11\n",
       "472    CA   F  1911     Madge      5\n",
       "480    CA   F  1911     Sadie      5\n",
       "506    CA   F  1912    Gladys     87\n",
       "569    CA   F  1912  Madeline     31"
      ]
     },
     "execution_count": 159,
     "metadata": {},
     "output_type": "execute_result"
    }
   ],
   "source": [
    "# use str.contains() function\n",
    "babynames[babynames['Name'].str.contains('ad')].head(10)"
   ]
  },
  {
   "cell_type": "markdown",
   "metadata": {
    "id": "xpvkVZSmFVO9"
   },
   "source": [
    "More on str methods when we'll study regular expressions in this course. Note that there are other approaches that we can use to find the same answer as above."
   ]
  },
  {
   "cell_type": "code",
   "execution_count": 161,
   "metadata": {
    "id": "_Mf-crJ54KFQ"
   },
   "outputs": [
    {
     "data": {
      "text/html": [
       "<div>\n",
       "<style scoped>\n",
       "    .dataframe tbody tr th:only-of-type {\n",
       "        vertical-align: middle;\n",
       "    }\n",
       "\n",
       "    .dataframe tbody tr th {\n",
       "        vertical-align: top;\n",
       "    }\n",
       "\n",
       "    .dataframe thead th {\n",
       "        text-align: right;\n",
       "    }\n",
       "</style>\n",
       "<table border=\"1\" class=\"dataframe\">\n",
       "  <thead>\n",
       "    <tr style=\"text-align: right;\">\n",
       "      <th></th>\n",
       "      <th>State</th>\n",
       "      <th>Sex</th>\n",
       "      <th>Year</th>\n",
       "      <th>Name</th>\n",
       "      <th>Count</th>\n",
       "    </tr>\n",
       "  </thead>\n",
       "  <tbody>\n",
       "    <tr>\n",
       "      <th>241415</th>\n",
       "      <td>CA</td>\n",
       "      <td>M</td>\n",
       "      <td>1916</td>\n",
       "      <td>Trinidad</td>\n",
       "      <td>6</td>\n",
       "    </tr>\n",
       "    <tr>\n",
       "      <th>179645</th>\n",
       "      <td>CA</td>\n",
       "      <td>F</td>\n",
       "      <td>2007</td>\n",
       "      <td>Addie</td>\n",
       "      <td>7</td>\n",
       "    </tr>\n",
       "    <tr>\n",
       "      <th>83316</th>\n",
       "      <td>CA</td>\n",
       "      <td>F</td>\n",
       "      <td>1980</td>\n",
       "      <td>Guadalupe</td>\n",
       "      <td>300</td>\n",
       "    </tr>\n",
       "    <tr>\n",
       "      <th>321635</th>\n",
       "      <td>CA</td>\n",
       "      <td>M</td>\n",
       "      <td>1991</td>\n",
       "      <td>Adel</td>\n",
       "      <td>7</td>\n",
       "    </tr>\n",
       "    <tr>\n",
       "      <th>407082</th>\n",
       "      <td>CA</td>\n",
       "      <td>M</td>\n",
       "      <td>2022</td>\n",
       "      <td>Ahad</td>\n",
       "      <td>5</td>\n",
       "    </tr>\n",
       "  </tbody>\n",
       "</table>\n",
       "</div>"
      ],
      "text/plain": [
       "       State Sex  Year       Name  Count\n",
       "241415    CA   M  1916   Trinidad      6\n",
       "179645    CA   F  2007      Addie      7\n",
       "83316     CA   F  1980  Guadalupe    300\n",
       "321635    CA   M  1991       Adel      7\n",
       "407082    CA   M  2022       Ahad      5"
      ]
     },
     "execution_count": 161,
     "metadata": {},
     "output_type": "execute_result"
    }
   ],
   "source": [
    "# Create a boolean mask for rows containing 'ad' in the \"Name\" column\n",
    "mask = babynames['Name'].str.contains('ad', case=False)\n",
    "\n",
    "\n",
    "# Use the mask to select rows and sample 5 random rows\n",
    "rows = babynames[mask].sample(n=5)\n",
    "rows"
   ]
  },
  {
   "cell_type": "markdown",
   "metadata": {
    "id": "RmQtaxLnFVO9"
   },
   "source": [
    "# Q.9\n",
    " Sort names by their length."
   ]
  },
  {
   "cell_type": "markdown",
   "metadata": {
    "id": "L7kJKsSoFVO9"
   },
   "source": [
    "In the babynames DataFrame, which baby name appears most frequently across all years and states, and how can you use pandas to find this information? Provide the code and steps to determine the most popular baby name in the dataset."
   ]
  },
  {
   "cell_type": "code",
   "execution_count": 167,
   "metadata": {
    "id": "y8Zyi2pVqts2",
    "scrolled": true
   },
   "outputs": [
    {
     "data": {
      "text/plain": [
       "'Michael'"
      ]
     },
     "execution_count": 167,
     "metadata": {},
     "output_type": "execute_result"
    }
   ],
   "source": [
    "\n",
    "\n",
    "# Group the data by \"Name\" and sum the \"Count\" for each name\n",
    "name_counts = babynames.groupby('Name')['Count'].sum()\n",
    "\n",
    "# Find the name with the highest total count\n",
    "most_popular_name = name_counts.idxmax()\n",
    "total_count = name_counts.max()\n",
    "\n",
    "# Display the most popular name and its count\n",
    "most_popular_name\n"
   ]
  },
  {
   "cell_type": "code",
   "execution_count": 168,
   "metadata": {},
   "outputs": [
    {
     "data": {
      "text/plain": [
       "435716"
      ]
     },
     "execution_count": 168,
     "metadata": {},
     "output_type": "execute_result"
    }
   ],
   "source": [
    "total_count"
   ]
  },
  {
   "cell_type": "markdown",
   "metadata": {
    "id": "C_YBsLEWquYO"
   },
   "source": [
    "# Q.10\n",
    "\n",
    "1: How can you use the .sample() method to randomly select a single row from the babynames DataFrame, and what is the purpose of such a selection?\n",
    "\n",
    "2: Suppose you want to generate a random sample of 10 baby names from the babynames DataFrame. How would you use the .sample() method to achieve this, and what parameters or arguments would you specify?\n",
    "\n",
    "3: In a scenario where you need to ensure reproducibility, explain how you can set a random seed when using the .sample() method in pandas.\n",
    "\n",
    "4: You want to perform a bootstrap resampling analysis on the baby names data in the babynames DataFrame. Describe how you can repeatedly sample with replacement using .sample() to create multiple bootstrap samples for statistical analysis.\n",
    "\n",
    "Performing a bootstrap resampling analysis on the baby names data in the babynames DataFrame involves repeatedly drawing random samples with replacement from the dataset to create multiple samples that simulate the population. This process allows you to estimate the sampling distribution of a statistic, make inferences, and perform statistical analysis. Bootstrap provides a straightforward way to calculate confidence intervals for a statistic."
   ]
  },
  {
   "cell_type": "code",
   "execution_count": 174,
   "metadata": {
    "id": "zUuIGtbjq67o"
   },
   "outputs": [
    {
     "data": {
      "text/html": [
       "<div>\n",
       "<style scoped>\n",
       "    .dataframe tbody tr th:only-of-type {\n",
       "        vertical-align: middle;\n",
       "    }\n",
       "\n",
       "    .dataframe tbody tr th {\n",
       "        vertical-align: top;\n",
       "    }\n",
       "\n",
       "    .dataframe thead th {\n",
       "        text-align: right;\n",
       "    }\n",
       "</style>\n",
       "<table border=\"1\" class=\"dataframe\">\n",
       "  <thead>\n",
       "    <tr style=\"text-align: right;\">\n",
       "      <th></th>\n",
       "      <th>State</th>\n",
       "      <th>Sex</th>\n",
       "      <th>Year</th>\n",
       "      <th>Name</th>\n",
       "      <th>Count</th>\n",
       "    </tr>\n",
       "  </thead>\n",
       "  <tbody>\n",
       "    <tr>\n",
       "      <th>43507</th>\n",
       "      <td>CA</td>\n",
       "      <td>F</td>\n",
       "      <td>1960</td>\n",
       "      <td>Melany</td>\n",
       "      <td>7</td>\n",
       "    </tr>\n",
       "    <tr>\n",
       "      <th>56368</th>\n",
       "      <td>CA</td>\n",
       "      <td>F</td>\n",
       "      <td>1967</td>\n",
       "      <td>Elba</td>\n",
       "      <td>7</td>\n",
       "    </tr>\n",
       "    <tr>\n",
       "      <th>41809</th>\n",
       "      <td>CA</td>\n",
       "      <td>F</td>\n",
       "      <td>1959</td>\n",
       "      <td>Donalee</td>\n",
       "      <td>6</td>\n",
       "    </tr>\n",
       "    <tr>\n",
       "      <th>272593</th>\n",
       "      <td>CA</td>\n",
       "      <td>M</td>\n",
       "      <td>1961</td>\n",
       "      <td>Grant</td>\n",
       "      <td>141</td>\n",
       "    </tr>\n",
       "    <tr>\n",
       "      <th>272055</th>\n",
       "      <td>CA</td>\n",
       "      <td>M</td>\n",
       "      <td>1960</td>\n",
       "      <td>Raphael</td>\n",
       "      <td>9</td>\n",
       "    </tr>\n",
       "  </tbody>\n",
       "</table>\n",
       "</div>"
      ],
      "text/plain": [
       "       State Sex  Year     Name  Count\n",
       "43507     CA   F  1960   Melany      7\n",
       "56368     CA   F  1967     Elba      7\n",
       "41809     CA   F  1959  Donalee      6\n",
       "272593    CA   M  1961    Grant    141\n",
       "272055    CA   M  1960  Raphael      9"
      ]
     },
     "execution_count": 174,
     "metadata": {},
     "output_type": "execute_result"
    }
   ],
   "source": [
    "#Answer Here\n",
    "import pandas as pd\n",
    "\n",
    "# Assuming 'babynames' DataFrame contains baby names data\n",
    "\n",
    "# Randomly select a single row\n",
    "random_row = babynames.sample(n=5)\n",
    "\n",
    "# Show the randomly selected row\n",
    "random_row\n",
    "\n",
    "# For 3rd part Set a random seed (e.g., 34) before using .sample()\n",
    "# Perform random sampling using .sample()\n",
    "\n",
    "\n",
    "# For 4th Part\n",
    "\n",
    "\n",
    "# Assuming you have the 'babynames' DataFrame\n",
    "\n",
    "# Set the random seed for reproducibility\n",
    "\n",
    "\n",
    "# Number of bootstrap samples\n",
    "#num_samples = 1000\n",
    "\n",
    "# Sample size (same as the original dataset)\n",
    "\n",
    "\n",
    "# Initialize a list to store bootstrap sample statistics\n",
    "\n",
    "\n",
    "# Perform bootstrapping\n",
    "\n",
    "    # Generate a bootstrap sample with replacement\n",
    "\n",
    "    # Perform your statistical analysis on the bootstrap sample here\n",
    "    # For example, you can calculate the mean, median, or other statistics\n",
    "\n",
    "    # Append the statistic of interest (mean of baby count for each name) to the list\n"
   ]
  },
  {
   "cell_type": "markdown",
   "metadata": {
    "id": "5O39msrBFVO-"
   },
   "source": [
    "# Q.11\n",
    "1: The code randomly mixes up the list of baby names. Why might someone want to do this, and how could it affect the analysis of the names?\n",
    "\n",
    "2: After mixing, the code figures out how long each baby name is. Why would we care about name lengths, and what can this tell us about the names?\n",
    "\n",
    "3: The code arranges the name lengths from longest to shortest. Why might we want to do this, and what could it help us find in the data?\n",
    "\n",
    "4: The code finds the order of baby names based on their lengths and shows us the first few names in this new order. When might we need to organize names this way, and what might we discover from the first few names in this order?\n"
   ]
  },
  {
   "cell_type": "code",
   "execution_count": null,
   "metadata": {
    "id": "-lyTRJMeFVO-"
   },
   "outputs": [],
   "source": [
    "#Part1, shuffling can be done using sample(frac=1)\n",
    "\n",
    "#Part2\n",
    "\n",
    "#Part3\n",
    "\n",
    "#Part4\n"
   ]
  }
 ],
 "metadata": {
  "colab": {
   "provenance": []
  },
  "kernelspec": {
   "display_name": "Python 3 (ipykernel)",
   "language": "python",
   "name": "python3"
  },
  "language_info": {
   "codemirror_mode": {
    "name": "ipython",
    "version": 3
   },
   "file_extension": ".py",
   "mimetype": "text/x-python",
   "name": "python",
   "nbconvert_exporter": "python",
   "pygments_lexer": "ipython3",
   "version": "3.11.5"
  },
  "vscode": {
   "interpreter": {
    "hash": "7a3d88c904243d2c3f246166597f86d1c0a39f3d97496d1fe394945d0c6d436d"
   }
  }
 },
 "nbformat": 4,
 "nbformat_minor": 1
}
