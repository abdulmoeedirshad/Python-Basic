{
 "cells": [
  {
   "cell_type": "code",
   "execution_count": 5,
   "metadata": {
    "id": "qQxFQvrEEKqm"
   },
   "outputs": [],
   "source": [
    "import numpy as np"
   ]
  },
  {
   "cell_type": "code",
   "execution_count": 1,
   "metadata": {
    "colab": {
     "base_uri": "https://localhost:8080/"
    },
    "id": "n_ncJAFDEbs1",
    "outputId": "a09be9aa-5efa-45c6-b212-e9ebec9db71a"
   },
   "outputs": [
    {
     "ename": "ModuleNotFoundError",
     "evalue": "No module named 'google'",
     "output_type": "error",
     "traceback": [
      "\u001b[1;31m---------------------------------------------------------------------------\u001b[0m",
      "\u001b[1;31mModuleNotFoundError\u001b[0m                       Traceback (most recent call last)",
      "Cell \u001b[1;32mIn[1], line 1\u001b[0m\n\u001b[1;32m----> 1\u001b[0m \u001b[38;5;28;01mfrom\u001b[39;00m \u001b[38;5;21;01mgoogle\u001b[39;00m\u001b[38;5;21;01m.\u001b[39;00m\u001b[38;5;21;01mcolab\u001b[39;00m \u001b[38;5;28;01mimport\u001b[39;00m drive\n\u001b[0;32m      2\u001b[0m drive\u001b[38;5;241m.\u001b[39mmount(\u001b[38;5;124m'\u001b[39m\u001b[38;5;124m/content/drive\u001b[39m\u001b[38;5;124m'\u001b[39m)\n",
      "\u001b[1;31mModuleNotFoundError\u001b[0m: No module named 'google'"
     ]
    }
   ],
   "source": [
    "from google.colab import drive\n",
    "drive.mount('/content/drive')"
   ]
  },
  {
   "cell_type": "markdown",
   "metadata": {
    "id": "5dL78wl-ElhS"
   },
   "source": [
    "# Q.1\n",
    "**Statement:** You are working with a retail store that needs to manage its inventory efficiently. They have provided you with a dataset containing information about products, their quantities in stock, and the number of units sold daily for the past week. Total number of products are 5. Your task is to calculate the following:\n",
    "\n",
    "\n",
    "\n",
    "1.The total sales for each product over the past week.\n",
    "\\\n",
    "2.The average daily sales for each product.\n",
    "\n",
    "3.The product with the highest sales.\n",
    "\n",
    "4.The product with the lowest sales.\n",
    "\n",
    "5.The total sales for all products combined.\n",
    "\n",
    "You are required to use NumPy for efficient data processing and calculations. Write code to solve this inventory management problem."
   ]
  },
  {
   "cell_type": "code",
   "execution_count": 68,
   "metadata": {
    "id": "DxtXsLXRVpdW",
    "scrolled": true
   },
   "outputs": [
    {
     "name": "stdout",
     "output_type": "stream",
     "text": [
      "[175  72 205 204 210]\n",
      "[25.         10.28571429 29.28571429 29.14285714 30.        ] \n",
      "\n",
      "the product with the highest sales is product number:  4 \n",
      "\n",
      "the product with the lowest sales is  1 \n",
      "\n",
      "The daily sales of each product for the past week: [[10 15 20 25 30 35 40]\n",
      " [ 5  7  8 10 12 14 16]\n",
      " [15 20 25 30 35 40 40]\n",
      " [12 25 20 40 20 32 55]\n",
      " [15 20 25 30 35 40 45]] \n",
      "\n",
      "[[ 50  75 100 125 150 175 200]\n",
      " [ 40  56  64  80  96 112 128]\n",
      " [150 200 250 300 350 400 400]\n",
      " [180 375 300 600 300 480 825]\n",
      " [300 400 500 600 700 800 900]] \n",
      "\n",
      "the total revenue of all the products combined is 10761\n"
     ]
    }
   ],
   "source": [
    "import numpy as np\n",
    "\n",
    "# Sample data (replace with your actual data)\n",
    "product_names = np.array(['Product A', 'Product B', 'Product C', 'Product D', 'Product E'])\n",
    "quantities_in_stock = np.array([100, 150, 200, 250, 50])\n",
    "\n",
    "daily_sales_data = np.array([[10, 15, 20, 25, 30, 35, 40],\n",
    "                             [5, 7, 8, 10, 12, 14, 16],\n",
    "                             [15, 20, 25, 30, 35, 40, 40],\n",
    "                             [12, 25, 20, 40, 20, 32, 55],\n",
    "                             [15, 20, 25, 30, 35, 40, 45]])\n",
    "\n",
    "# Calculate total sales revenue for each product over the past week\n",
    "a=np.sum(daily_sales_data,axis=(1))\n",
    "print(a)\n",
    "# Calculate average daily sales for each product\n",
    "b=np.mean(daily_sales_data,axis=(1))\n",
    "print(b,'\\n')\n",
    "# Find the product with the highest and lowest sales\n",
    "c=np.argmax(a)\n",
    "print('the product with the highest sales is product number: ',c,'\\n')\n",
    "d=np.argmin(a)\n",
    "print('the product with the lowest sales is ',d,'\\n')\n",
    "# The total sales for all products combined.\n",
    "total_sales_for_all_products_combined=np.sum(daily_sales_data)\n",
    "total_sales_for_all_products_combined\n",
    "#Revenue\n",
    "\n",
    "# Calculate total sales revenue for all products combined\n",
    "product_prices = np.array([5, 8, 10, 15, 20])\n",
    "\n",
    "print('The daily sales of each product for the past week:', daily_sales_data, '\\n')\n",
    "revenue = daily_sales_data * product_prices[:, np.newaxis]\n",
    "print(revenue,'\\n')\n",
    "print('the total revenue of all the products combined is',revenue.sum())"
   ]
  },
  {
   "cell_type": "markdown",
   "metadata": {
    "id": "ICk1qoQHVwDc"
   },
   "source": [
    "# Q.2\n",
    "**Statement:** Statement: You are working with a manufacturing plant that produces various components. They have provided you with data on the production rates of five different machines over the past month. Your task is to analyze the performance of these machines by calculating the following metrics:\n",
    "\n",
    "1.The total production output for each machine over the past month.\n",
    "\n",
    "2.The average daily production rate for each machine.\n",
    "\n",
    "3.The machine with the highest total production output.\n",
    "\n",
    "4.The machine with the lowest total production output.\n",
    "\n",
    "The overall production efficiency of the plant, which is defined as the ratio of the total production output to the total number of hours worked, and working hour for each day is 2 hours."
   ]
  },
  {
   "cell_type": "code",
   "execution_count": 7,
   "metadata": {
    "id": "lIu6pfmgbUQd"
   },
   "outputs": [
    {
     "name": "stdout",
     "output_type": "stream",
     "text": [
      "production_rates [[126 153 137 132 190 190 102 153 146 106 149 124 113 152 160 149 129 111\n",
      "  107 175 128 185 144 151 188 102 197 111 117 151]\n",
      " [175 168 125 167 189 116 196 188 117 123 175 150 174 123 158 113 167 165\n",
      "  181 137 172 145 121 147 168 131 118 124 127 182]\n",
      " [126 132 184 181 176 151 101 120 162 125 149 152 167 182 113 193 115 195\n",
      "  138 168 174 184 165 117 129 151 130 159 111 187]\n",
      " [184 163 174 124 162 199 175 179 109 153 178 173 133 158 102 174 177 137\n",
      "  143 125 135 197 182 114 180 189 176 103 175 120]\n",
      " [166 110 161 117 127 122 112 106 136 123 108 117 111 110 123 195 137 125\n",
      "  150 142 182 180 186 124 180 182 175 151 134 110]] \n",
      "\n",
      "total production output ['Machine A' 'Machine B' 'Machine C' 'Machine D' 'Machine E'] [4278 4542 4537 4693 4202] \n",
      "\n",
      "average_daily_production_rate ['Machine A' 'Machine B' 'Machine C' 'Machine D' 'Machine E'] [142.6        151.4        151.23333333 156.43333333 140.06666667] \n",
      "\n",
      "highest_production_output Machine D \n",
      "\n",
      "lowest_production_output Machine E \n",
      "\n",
      "total_effinecny_of_the_plant is 22.4\n"
     ]
    }
   ],
   "source": [
    "# Sample data (replace with your actual data)\n",
    "Names_of_Machines=np.array(['Machine A', 'Machine B', 'Machine C', 'Machine D', 'Machine E'])\n",
    "# Generate random production rates between 100 and 200 for 5 machines and 30 days\n",
    "production_rates= np.random.randint(100,200,size=(5,30))\n",
    "print('production_rates',production_rates,'\\n')\n",
    "\n",
    "# Calculate total production output for each machine over the past month\n",
    "total_production_output= np.sum(production_rates,axis=(1))\n",
    "print('total production output',Names_of_Machines,total_production_output,'\\n')\n",
    "\n",
    "# Calculate average daily production rate for each machine\n",
    "\n",
    "average_daily_production_rate= np.mean(production_rates,axis=(1))\n",
    "print('average_daily_production_rate',Names_of_Machines,average_daily_production_rate,'\\n')\n",
    "# Find the machine with the highest and lowest total production output\n",
    "highest_production_output=Names_of_Machines[total_production_output.argmax()]\n",
    "\n",
    "print('highest_production_output',highest_production_output,'\\n')\n",
    "lowest_production_output=Names_of_Machines[total_production_output.argmin()]\n",
    "print('lowest_production_output',lowest_production_output,'\\n')\n",
    "# Calculate the overall production efficiency of the plant\n",
    "\n",
    "efficency= total_production_output%60\n",
    "total_effinecny_of_the_plant=np.mean(efficency)\n",
    "print('total_effinecny_of_the_plant is',total_effinecny_of_the_plant)"
   ]
  },
  {
   "cell_type": "markdown",
   "metadata": {
    "id": "Ayc9TG-vff7A"
   },
   "source": [
    "# Q3:\n",
    "\n",
    "**Statment**\n",
    "You are working on a project that involves simulating sensor data for a network of 10 sensors over a period of 15 days. Each sensor collects data once per hour. Your task is to generate a NumPy array named sensor_data to represent this simulated sensor data and perform following statistical analysis on it.\n",
    "\n",
    "Populate the sensor_data array with random floating-point values between 0.0 and 100.0\n",
    "The generated values should represent sensor readings collected once per hour.\n",
    "\n",
    "After generating the sensor_data array, perform the following statistical **calculations:**\n",
    "\n",
    "1.Calculate the mean (average) sensor reading for each sensor over the 15 days.\n",
    "\n",
    "2.Calculate the standard deviation of sensor readings for each sensor.\n",
    "\n",
    "3.Calculate the maximum sensor reading for each sensor.\n",
    "\n",
    "4.Calculate the minimum sensor reading for each sensor.\n",
    "\n",
    "5.Calculate the overall mean sensor reading for all sensors and all days.\n",
    "\n",
    "6.Calculate the overall standard deviation of sensor readings for all sensors an"
   ]
  },
  {
   "cell_type": "code",
   "execution_count": 145,
   "metadata": {
    "id": "TWSK9GA1gfz0"
   },
   "outputs": [
    {
     "name": "stdout",
     "output_type": "stream",
     "text": [
      "The sensors readings are=  \n",
      " [[[46.81247176  4.00560817 45.07701061 ... 60.57642729 27.1584748\n",
      "   88.86776853]\n",
      "  [ 5.98734403 14.64475876 76.59995442 ... 22.31997862 90.99329591\n",
      "    3.85142668]\n",
      "  [45.13101599 45.94392307 62.27963281 ... 69.75004042 70.84665984\n",
      "   72.55125954]\n",
      "  ...\n",
      "  [ 0.70919093 34.70081658 11.41402738 ... 39.53628974 73.76269324\n",
      "   77.37316862]\n",
      "  [70.10289481 62.67076427 56.34046479 ... 23.3987792   5.2128855\n",
      "    1.0589498 ]\n",
      "  [87.82041153  9.95297243 54.00016247 ... 68.52310595 58.80810775\n",
      "   19.61953092]]\n",
      "\n",
      " [[37.46423068 84.05849836  8.05932588 ... 21.59444801 85.5861487\n",
      "   97.42522655]\n",
      "  [83.46736374 94.37372468 89.73973251 ... 36.97746879 71.10094787\n",
      "   62.11863336]\n",
      "  [33.46971553 46.2057302  89.10840501 ... 11.73961964 99.75123599\n",
      "   37.19988453]\n",
      "  ...\n",
      "  [71.38319213 37.47356584 38.38322055 ... 30.85708176 80.22195958\n",
      "   72.64922142]\n",
      "  [91.82268779 96.35951118 85.9478097  ... 44.21590654 93.54973472\n",
      "   43.96852172]\n",
      "  [20.94764602  9.89539584 91.0154314  ... 62.89085517 25.63134992\n",
      "   57.29469632]]\n",
      "\n",
      " [[36.10824457 24.46326161 98.38474398 ... 18.47546079 65.353978\n",
      "   31.31906432]\n",
      "  [32.52383358 82.78391205 97.3311335  ... 24.19798615 36.64723778\n",
      "   86.53213905]\n",
      "  [57.81987515 53.00932625 59.36367558 ... 90.91148371 34.8423421\n",
      "   29.80817347]\n",
      "  ...\n",
      "  [30.88784041 75.71401355 86.0009203  ... 69.51462645 71.87529331\n",
      "   47.48781657]\n",
      "  [27.35119181 84.19405671 69.34754904 ... 56.9605592  15.96491795\n",
      "   37.05104746]\n",
      "  [31.26052274  7.72492279 67.51945857 ... 86.73346473 48.41845575\n",
      "   94.80778974]]\n",
      "\n",
      " ...\n",
      "\n",
      " [[30.90781314 59.9049595  64.46647354 ... 59.98754587 56.56056825\n",
      "   91.69266315]\n",
      "  [57.23276662 17.71346388 43.11385893 ... 17.35574412  0.74191296\n",
      "   66.66879766]\n",
      "  [70.34909154 77.00223961 84.04621987 ... 23.35141566 60.9158183\n",
      "   49.4564164 ]\n",
      "  ...\n",
      "  [30.98984998 62.26963162 42.72038371 ... 74.57241337 70.37232161\n",
      "   49.47724677]\n",
      "  [62.17753402 80.48973999 10.15615763 ...  2.3566843   3.87941836\n",
      "   82.5210881 ]\n",
      "  [86.40386915 14.20953499 62.53165669 ... 65.05751951 95.73995558\n",
      "   95.28149301]]\n",
      "\n",
      " [[ 9.45716076 16.74957365 89.01368018 ... 84.35830963 11.92817388\n",
      "   66.15169814]\n",
      "  [74.94707667 75.11132547 58.13830412 ... 44.48265776 69.0798061\n",
      "    2.8621782 ]\n",
      "  [61.13364448 87.15885799 56.53622995 ... 56.27147009 26.36292571\n",
      "   20.04852822]\n",
      "  ...\n",
      "  [96.85415586 66.8750273  36.47257739 ... 35.80652268 96.61183663\n",
      "   41.41819957]\n",
      "  [ 3.89335589  1.32649247 94.60827167 ...  7.05296126 89.30599623\n",
      "   57.09768436]\n",
      "  [77.55935681 17.68214058 26.55110216 ... 55.37002805 41.47521816\n",
      "   71.55525159]]\n",
      "\n",
      " [[42.47678617 98.25092744 38.29595344 ... 61.74091271 20.00039549\n",
      "   14.54084646]\n",
      "  [54.19464319 86.0543098  77.53785096 ... 81.04862829 81.56755892\n",
      "   34.21253759]\n",
      "  [49.4157222  91.39701133 53.22277955 ... 45.32809859 52.84288341\n",
      "   48.49711831]\n",
      "  ...\n",
      "  [36.47074852 22.47298741 78.00599607 ... 11.46470666 48.3898535\n",
      "   95.15438619]\n",
      "  [97.46476834  7.31045838 24.9136099  ... 42.18253614 69.53393939\n",
      "   47.6215831 ]\n",
      "  [15.74489558  3.17449827 39.66777613 ... 34.28585042  5.36200303\n",
      "   73.76914659]]] \n",
      "\n",
      "The average sensor reading of each sensor over the 15 days is=  \n",
      " [[45.31594399 48.80043374 45.94440011 51.67831392 47.60700463 43.48437891\n",
      "  50.56161846 53.84154259 59.65964901 51.52225929 52.49971591 47.11849881\n",
      "  46.11873591 48.11424143 46.08668145]\n",
      " [55.88749752 67.07601137 42.39627201 42.05216195 48.83099234 50.8728119\n",
      "  56.17977163 48.04659514 46.69026373 47.60057975 46.38622118 49.33504254\n",
      "  54.54359581 62.17013447 45.15818912]\n",
      " [49.55514648 54.24717185 50.75562976 50.7195508  57.62972154 45.66841375\n",
      "  56.6907993  49.2212197  58.35207461 50.81897539 40.33011476 49.98187169\n",
      "  58.08680445 50.57030143 56.1558044 ]\n",
      " [41.40880948 51.85270938 60.98132286 54.91177321 52.8624519  49.48945232\n",
      "  45.03528157 46.62041608 61.48679396 51.11967158 47.76991903 51.8237356\n",
      "  50.17873829 56.21785478 56.89589881]\n",
      " [26.3529558  49.16816349 42.90658984 43.40814669 41.99884187 58.47891471\n",
      "  57.76335716 45.5879581  48.13590737 50.37757066 54.72686665 60.03157233\n",
      "  47.83137299 42.35274093 61.95109855]\n",
      " [43.62231394 47.12290123 50.33403131 34.35998034 45.34942858 45.09229021\n",
      "  47.69998492 53.57230764 44.55824974 42.64078118 43.95674829 54.20545983\n",
      "  54.37227659 41.44056616 52.73259414]\n",
      " [46.28930176 36.11126977 55.40533053 45.04115407 62.04684315 56.97958491\n",
      "  44.61762848 46.37907287 41.88844515 42.7142678  57.13155536 49.41567443\n",
      "  50.93496183 47.79750118 57.50065786]\n",
      " [54.4573545  48.16209917 57.72916109 57.66674667 39.04122689 55.44050479\n",
      "  51.19524061 52.14729058 51.77823432 44.12829054 49.7769369  43.17363193\n",
      "  44.9942618  44.60155182 48.42911353]\n",
      " [49.8472815  46.07195879 51.43186836 43.34420623 57.90300194 47.10566103\n",
      "  55.17948646 53.73580272 50.17732068 56.57074839 56.48529326 42.91870481\n",
      "  56.55743718 52.70405557 52.92338513]\n",
      " [40.64895029 58.63542816 56.06834194 51.25729028 45.09815134 44.53380568\n",
      "  47.24008285 57.19356226 52.42033596 42.9083192  43.83013598 57.62596318\n",
      "  52.52293851 47.15682343 44.13267494]] \n",
      "\n"
     ]
    }
   ],
   "source": [
    "import numpy as np\n",
    "\n",
    "# Data Generation Requirements\n",
    "num_sensors = 10\n",
    "num_days = 15\n",
    "hours_per_day = 24\n",
    "shape = (num_sensors, num_days * hours_per_day)\n",
    "sensor_data=np.random.uniform(0.0,100.0,size=(10,15,24))\n",
    "print(\"The sensors readings are= \",('\\n'),sensor_data,('\\n'))\n",
    " #1.Calculate the mean (average) sensor reading for each sensor over the 15 days.\n",
    "mean_sensor_reading= np.mean(sensor_data,axis=(2))\n",
    "print(\"The average sensor reading of each sensor over the 15 days is= \",('\\n'),mean_sensor_reading,('\\n'))\n"
   ]
  },
  {
   "cell_type": "code",
   "execution_count": 136,
   "metadata": {},
   "outputs": [
    {
     "name": "stdout",
     "output_type": "stream",
     "text": [
      "the standard deviation of sensor readings for each sensor=  \n",
      " [28.51595774 29.17584693 28.85847208 28.03102919 29.20545302 28.34479788\n",
      " 29.03230099 29.74668223 28.9111129  28.05982298] \n",
      "\n"
     ]
    }
   ],
   "source": [
    "#2.Calculate the standard deviation of sensor readings for each sensor.\n",
    "standard_deviation_of_sensor_readings= np.std(sensor_data,axis=(1,2))\n",
    "print(\"the standard deviation of sensor readings for each sensor= \",('\\n'),standard_deviation_of_sensor_readings,('\\n'))"
   ]
  },
  {
   "cell_type": "code",
   "execution_count": 141,
   "metadata": {
    "scrolled": true
   },
   "outputs": [
    {
     "name": "stdout",
     "output_type": "stream",
     "text": [
      "the maximum sensor reading for each sensor=  \n",
      " [99.80464284 99.82287516 99.79673288 99.62003071 99.78968685 99.91550387\n",
      " 99.91126321 99.90786188 99.92453744 99.56737883] \n",
      "\n"
     ]
    }
   ],
   "source": [
    "#3.Calculate the maximum sensor reading for each sensor.\n",
    "the_maximum_sensor_reading_for_each_sensor=sensor_data.max(axis=(1,2))\n",
    "print(\"the maximum sensor reading for each sensor= \",('\\n'),the_maximum_sensor_reading_for_each_sensor,('\\n'))"
   ]
  },
  {
   "cell_type": "code",
   "execution_count": 143,
   "metadata": {
    "scrolled": true
   },
   "outputs": [
    {
     "name": "stdout",
     "output_type": "stream",
     "text": [
      "the minimum sensor reading for each sensor=  \n",
      " [0.06044742 0.08266744 0.51472765 0.57388078 0.10750594 0.68717921\n",
      " 0.0114458  0.4288052  0.07506232 0.09882896] \n",
      "\n"
     ]
    }
   ],
   "source": [
    "#4.Calculate the minimum sensor reading for each sensor.\n",
    "the_minimum_sensor_reading_for_each_sensor=sensor_data.min(axis=(1,2))\n",
    "print(\"the minimum sensor reading for each sensor= \",('\\n'),the_minimum_sensor_reading_for_each_sensor,('\\n'))"
   ]
  },
  {
   "cell_type": "code",
   "execution_count": 149,
   "metadata": {},
   "outputs": [
    {
     "name": "stdout",
     "output_type": "stream",
     "text": [
      "the overall mean sensor reading for all sensors and all days= 49.92235912625025\n"
     ]
    }
   ],
   "source": [
    "#5.Calculate the overall mean sensor reading for all sensors and all days.\n",
    "the_overall_mean_sensor_reading_for_all_sensors_and_all_days= np.mean(sensor_data)\n",
    "print('the overall mean sensor reading for all sensors and all days=',the_overall_mean_sensor_reading_for_all_sensors_and_all_days)"
   ]
  },
  {
   "cell_type": "code",
   "execution_count": 150,
   "metadata": {},
   "outputs": [
    {
     "name": "stdout",
     "output_type": "stream",
     "text": [
      "the overall standard deviation of sensor readings for all sensors and all days= 28.699546293044683\n"
     ]
    }
   ],
   "source": [
    "#6.Calculate the overall standard deviation of sensor readings for all sensors and all days\n",
    "\n",
    "the_overall_standard_deviation_sensor_reading_for_all_sensors_and_all_days= np.std(sensor_data)\n",
    "print('the overall standard deviation of sensor readings for all sensors and all days=',the_overall_standard_deviation_sensor_reading_for_all_sensors_and_all_days)"
   ]
  },
  {
   "cell_type": "markdown",
   "metadata": {
    "id": "IShr0NSyhcEc"
   },
   "source": [
    "# Q4:\n",
    "\n",
    "**Statement**: You are tasked with analyzing the exam scores of 30 students in a class over a period of 10 exams. The exam scores are represented as a NumPy, where each row corresponds to a different student, and each column represents their score in a specific exam.\n",
    "\n",
    "Populate the exam_scores array with random integer values between 50 and 100 to simulate students' exam performance.\n",
    "\n",
    "After generating the exam_scores array, perform the following tasks:\n",
    "\n",
    "1.Calculate the average score for each student over the 10 exams.\n",
    "\n",
    "2.Calculate the standard deviation of scores for each student.\n",
    "\n",
    "3.Identify students who have consistently performed well, defined as those whose average score is above 85.\n",
    "\n",
    "4.Identify students who may need additional support, defined as those whose average score is below 50.\n",
    "\n",
    "Write code to create and populate the exam_scores array and then perform the specified statistical analysis and performance evaluation tasks on the data.\n",
    "\n",
    "\n",
    "\n"
   ]
  },
  {
   "cell_type": "code",
   "execution_count": 3,
   "metadata": {
    "id": "F3p_SMeoiT2o"
   },
   "outputs": [
    {
     "name": "stdout",
     "output_type": "stream",
     "text": [
      "the exam socres are \n",
      " [[51 92 73 98 75 81 86 71 68 76]\n",
      " [78 88 57 92 62 56 82 67 55 94]\n",
      " [63 90 67 98 89 74 95 54 72 92]\n",
      " [67 59 62 89 89 82 95 50 66 73]\n",
      " [61 51 98 61 52 77 68 91 89 51]\n",
      " [75 84 73 89 60 96 66 90 67 50]\n",
      " [78 50 78 89 65 97 85 98 73 68]\n",
      " [82 99 63 55 87 61 84 59 93 59]\n",
      " [97 99 54 59 59 77 64 52 70 98]\n",
      " [82 81 89 53 78 65 78 82 61 80]\n",
      " [83 88 62 63 70 96 79 92 69 51]\n",
      " [97 73 63 56 70 68 99 83 64 67]\n",
      " [52 88 72 83 60 65 79 75 62 69]\n",
      " [52 71 61 92 76 62 59 80 58 91]\n",
      " [67 75 98 88 58 69 85 80 76 61]\n",
      " [73 55 52 99 93 55 83 52 69 59]\n",
      " [71 92 51 62 72 75 76 60 64 94]\n",
      " [84 74 94 62 94 87 99 52 58 93]\n",
      " [94 59 68 65 77 88 68 60 58 89]\n",
      " [86 52 64 57 64 59 72 54 86 77]\n",
      " [59 50 86 70 72 78 90 86 94 89]\n",
      " [60 50 90 50 72 58 71 87 91 98]\n",
      " [86 86 82 82 86 52 50 84 68 90]\n",
      " [61 96 60 63 60 53 73 72 51 62]\n",
      " [78 55 71 80 73 90 97 54 51 73]\n",
      " [51 87 77 54 51 60 58 97 84 93]\n",
      " [56 60 91 67 80 87 81 80 95 71]\n",
      " [98 71 56 58 60 63 92 99 54 74]\n",
      " [66 90 67 91 75 75 76 68 90 78]\n",
      " [87 62 59 95 94 53 75 80 66 76]] \n",
      "\n",
      "the average scores are: \n",
      " [77.1 73.1 79.4 73.2 69.9 75.  78.1 74.2 72.9 74.9 75.3 74.  70.5 70.2\n",
      " 75.7 69.  71.7 79.7 72.6 67.1 77.4 72.7 76.6 65.1 72.2 71.2 76.8 72.5\n",
      " 77.6 74.7] \n",
      "\n",
      "the the standard deviation of scores are: \n",
      " [12.5574679  14.6931957  14.50655024 14.1689802  16.87275911 13.93556601\n",
      " 14.17356695 15.55506348 17.82386041 10.7373181  13.88560406 13.71860051\n",
      " 10.55698821 13.4        11.84947256 16.60722734 12.87672319 16.16817862\n",
      " 12.80781012 11.92853721 13.74918179 17.00029412 13.94417441 12.2184287\n",
      " 14.51068572 17.31935334 12.32720568 16.75857989  9.17823512 13.8567673 ] \n",
      "\n",
      "well performing student are [ 0  2  6 10 14 17 20 22 26 28]\n",
      "bad performing students are [ 4  8 12 13 15 16 18 19 21 23 24 25 27]\n"
     ]
    }
   ],
   "source": [
    "import numpy as np\n",
    "\n",
    "# Create the exam_scores array (30 students, 10 exams)\n",
    "num_students = 30\n",
    "num_exams = 10\n",
    "\n",
    "# Populate the exam_scores array with random scores between 50 and 100\n",
    "exam_scores=np.random.randint(50,100,size=(30,10))\n",
    "print(\"the exam socres are\",'\\n',exam_scores,'\\n')\n",
    "# 1. Calculate the average score for each student over the 10 exams\n",
    "average_score=np.mean(exam_scores,axis=(1))\n",
    "print(\"the average scores are:\",'\\n',average_score,'\\n')\n",
    "# 2. Calculate the standard deviation of scores for each student\n",
    "standard_deviation_of_scores=np.std(exam_scores,axis=(1))\n",
    "print(\"the the standard deviation of scores are:\",'\\n',standard_deviation_of_scores,'\\n')\n",
    "\n",
    "# 3. Identify students who have consistently performed well (average score > 75)\n",
    "well_performing_students = np.where(average_score > 75)[0]\n",
    "print('well performing student are',well_performing_students)\n",
    "# 4. Identify students who may need additional support (average score < 73)\n",
    "bad_performing_students=np.where(average_score < 73)[0]\n",
    "print('bad performing students are',bad_performing_students)"
   ]
  },
  {
   "cell_type": "code",
   "execution_count": null,
   "metadata": {},
   "outputs": [],
   "source": []
  }
 ],
 "metadata": {
  "colab": {
   "provenance": []
  },
  "kernelspec": {
   "display_name": "Python 3 (ipykernel)",
   "language": "python",
   "name": "python3"
  },
  "language_info": {
   "codemirror_mode": {
    "name": "ipython",
    "version": 3
   },
   "file_extension": ".py",
   "mimetype": "text/x-python",
   "name": "python",
   "nbconvert_exporter": "python",
   "pygments_lexer": "ipython3",
   "version": "3.11.5"
  }
 },
 "nbformat": 4,
 "nbformat_minor": 1
}
